{
 "cells": [
  {
   "cell_type": "markdown",
   "metadata": {},
   "source": [
    "# Spark: Why Functional Programing?\n",
    "\n",
    "This notebook is inspired by https://www.udacity.com/course/learn-spark-at-udacity--ud2002\n",
    "\n",
    "This notebook provides a basic example which illustrates why **functional programing** is used in parallel distributed systems instead of procedural programing"
   ]
  },
  {
   "cell_type": "code",
   "execution_count": 1,
   "metadata": {},
   "outputs": [],
   "source": [
    "log_of_songs = [\n",
    "        \"Despacito\",\n",
    "        \"Nice for what\",\n",
    "        \"No tears left to cry\",\n",
    "        \"Despacito\",\n",
    "        \"Havana\",\n",
    "        \"In my feelings\",\n",
    "        \"Nice for what\",\n",
    "        \"Despacito\",\n",
    "        \"All the stars\"\n",
    "]"
   ]
  },
  {
   "cell_type": "code",
   "execution_count": 2,
   "metadata": {},
   "outputs": [],
   "source": [
    "play_count = 0"
   ]
  },
  {
   "cell_type": "code",
   "execution_count": 31,
   "metadata": {},
   "outputs": [],
   "source": [
    "def count_songs_global(song_name):\n",
    "    global play_count\n",
    "    for song in log_of_songs:\n",
    "        if song == song_name:\n",
    "            play_count = play_count +1\n",
    "    return play_count"
   ]
  },
  {
   "cell_type": "code",
   "execution_count": 32,
   "metadata": {},
   "outputs": [
    {
     "data": {
      "text/plain": [
       "18"
      ]
     },
     "execution_count": 32,
     "metadata": {},
     "output_type": "execute_result"
    }
   ],
   "source": [
    "count_songs_global(\"Despacito\")"
   ]
  },
  {
   "cell_type": "code",
   "execution_count": 33,
   "metadata": {},
   "outputs": [
    {
     "data": {
      "text/plain": [
       "21"
      ]
     },
     "execution_count": 33,
     "metadata": {},
     "output_type": "execute_result"
    }
   ],
   "source": [
    "count_songs_global(\"Despacito\")"
   ]
  },
  {
   "cell_type": "markdown",
   "metadata": {},
   "source": [
    "However, if we implement play_count as a local variable we can solve this problem:"
   ]
  },
  {
   "cell_type": "code",
   "execution_count": 30,
   "metadata": {},
   "outputs": [],
   "source": [
    "def count_songs_local(song_name):\n",
    "    play_count = 0\n",
    "    for song in log_of_songs:\n",
    "        if song == song_name:\n",
    "            play_count = play_count +1\n",
    "    return play_count"
   ]
  },
  {
   "cell_type": "code",
   "execution_count": 34,
   "metadata": {},
   "outputs": [
    {
     "data": {
      "text/plain": [
       "3"
      ]
     },
     "execution_count": 34,
     "metadata": {},
     "output_type": "execute_result"
    }
   ],
   "source": [
    "count_songs_local(\"Despacito\")"
   ]
  },
  {
   "cell_type": "markdown",
   "metadata": {},
   "source": [
    "**So why can't we just use the local implementation in Spark?** In parallel programing our data would be split up onto multiple computers. Machine 1 would first need to finish counting, and then return its results to Machine 2. Only then Machine 2 could begin counting (since Machine 2 needs the output from Machine 1)\n",
    "\n",
    "But this not parallel computing. This is very inefficent since Machine 2 has to wait until Machine 1 completes the computation.\n",
    "\n",
    "**How does Spark over come this?**\n",
    "Spark solves this issue by using *functional programming* instead of *procedural programming*. In Spark, if our data is split onto two different machines, Machine 1 will run a function that counts the number of times *change this* \n",
    "\n",
    "In distributed systems, your function shouldn't have side effects on variables outside their scope. Since that could interfere with other funtions running on the cluster"
   ]
  }
 ],
 "metadata": {
  "kernelspec": {
   "display_name": "Python 3",
   "language": "python",
   "name": "python3"
  },
  "language_info": {
   "codemirror_mode": {
    "name": "ipython",
    "version": 3
   },
   "file_extension": ".py",
   "mimetype": "text/x-python",
   "name": "python",
   "nbconvert_exporter": "python",
   "pygments_lexer": "ipython3",
   "version": "3.7.4"
  }
 },
 "nbformat": 4,
 "nbformat_minor": 2
}
