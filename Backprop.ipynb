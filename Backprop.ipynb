{
  "nbformat": 4,
  "nbformat_minor": 0,
  "metadata": {
    "colab": {
      "provenance": [],
      "authorship_tag": "ABX9TyODrjSK0z0DjzwJiQShl1jh",
      "include_colab_link": true
    },
    "kernelspec": {
      "name": "python3",
      "display_name": "Python 3"
    },
    "language_info": {
      "name": "python"
    }
  },
  "cells": [
    {
      "cell_type": "markdown",
      "metadata": {
        "id": "view-in-github",
        "colab_type": "text"
      },
      "source": [
        "<a href=\"https://colab.research.google.com/github/hananather/Projects/blob/master/Backprop.ipynb\" target=\"_parent\"><img src=\"https://colab.research.google.com/assets/colab-badge.svg\" alt=\"Open In Colab\"/></a>"
      ]
    },
    {
      "cell_type": "markdown",
      "source": [
        "We begin by creating a **Value** class.\n",
        "What is the point of creating this class?\n",
        "- This class will be the building block for creating **expresion graph**\n",
        "- when we take these 'value' objects and apply a mathematical operation such as addition or multiplication, we create a **new** value object which contains the childern and operation that created it.\n",
        "\n",
        "- The way we compute the partial derivate will be different for every value object depending on the operation which was used to create that object\n",
        "  1. we implement a `self._backward = lambda: None` argument in the constructor so that every value object has a `self._backward` method.\n",
        "  2. When a new value object is created based some operation involving previous value object(s) (such as addition, or applying the expoential function etc..) `_backward` is also updated based on the operation that was applied.\n",
        "  3. Calling the `_backward()` function on an object updates the gradients of the childern.\n",
        "  \n"
      ],
      "metadata": {
        "id": "_WVzcK9ywPIn"
      }
    },
    {
      "cell_type": "markdown",
      "source": [
        "For every operator sign, there is an underlying mechanism.\n",
        "\n",
        "This underlying mechanism is a special method that will be called during the operator action.\n",
        "\n",
        "This special method is called a magical method.\n"
      ],
      "metadata": {
        "id": "ND2QvXhRWNGC"
      }
    },
    {
      "cell_type": "code",
      "source": [],
      "metadata": {
        "id": "2_Dv6JkWWMyM"
      },
      "execution_count": null,
      "outputs": []
    },
    {
      "cell_type": "code",
      "source": [
        "import math\n",
        "class Value:\n",
        "\n",
        "  def __init__(self, data, _children=(), _op='', label=''):\n",
        "    self.data = data\n",
        "    self.grad = 0.0\n",
        "    self._backward = lambda: None\n",
        "    self._prev = set(_children)\n",
        "    self._op = _op\n",
        "    self.label = label\n",
        "\n",
        "  def __repr__(self):\n",
        "    return f\"Value(data={self.data})\"\n",
        "\n",
        "  def __add__(self, other):\n",
        "    other = other if isinstance(other, Value) else Value(other)\n",
        "    out = Value(self.data + other.data, (self, other ), '+')\n",
        "\n",
        "    def _backward():\n",
        "      self.grad += out.grad\n",
        "      other.grad += out.grad\n",
        "    out._backward = _backward\n",
        "    return out\n",
        "\n",
        "  def __mul__(self, other):\n",
        "    other = other if isinstance(other, Value) else Value(other)\n",
        "    out = Value(self.data * other.data, (self, other), '*')\n",
        "\n",
        "    def _backward():\n",
        "      self.grad += other.data * out.grad\n",
        "      other.grad += self.data * out.grad\n",
        "    out._backward = _backward\n",
        "\n",
        "    return out\n",
        "\n",
        "  def __neg__(self):\n",
        "    return self * -1\n",
        "\n",
        "  def __sub__(self, other):\n",
        "    return self + (-other)\n",
        "\n",
        "  def __pow__(self,other):\n",
        "    assert isinstance(other, (int, float))\n",
        "    out = Value(self.data**other, (self,), f'**{other}')\n",
        "    def _backward():\n",
        "      self.grad += other* (self.data ** (other-1)) * out.grad\n",
        "    out._backward = _backward\n",
        "    return out\n",
        "\n",
        "  def __rmul__(self, other):\n",
        "    return self * other\n",
        "\n",
        "  def __truediv__(self, other):\n",
        "    return self * other**-1\n",
        "\n",
        "  def tanh(self):\n",
        "    x = self.data\n",
        "    t = (math.exp(2*x) - 1)/(math.exp(2*x) +1)\n",
        "    out = Value(t, (self, ), 'tanh')\n",
        "    def _backward():\n",
        "      self.grad += (1 - t**2) * out.grad\n",
        "    out._backward = _backward\n",
        "    return out\n",
        "\n",
        "  def exp(self):\n",
        "    x = self.data\n",
        "    out = Value(math.exp(x), (self,), 'exp')\n",
        "\n",
        "    def _backward():\n",
        "      self.grad += out.data * out.grad\n",
        "    out._backward = _backward\n",
        "\n",
        "    return out\n",
        "\n",
        "  def backward(self):\n",
        "    topo = []\n",
        "    visited = set()\n",
        "\n",
        "    def build_topo(v):\n",
        "      if v not in visited:\n",
        "        visited.add(v)\n",
        "        for child in v._prev:\n",
        "          build_topo(child)\n",
        "        topo.append(v)\n",
        "\n",
        "    build_topo(self)\n",
        "    self.grad = 1\n",
        "    for v in reversed(topo):\n",
        "      v._backward()\n",
        "\n",
        "\n",
        "  def __radd__(self, other):\n",
        "    return self + other\n",
        "\n"
      ],
      "metadata": {
        "id": "1kW73trPzyjy"
      },
      "execution_count": 1,
      "outputs": []
    },
    {
      "cell_type": "code",
      "source": [
        "from graphviz import Digraph\n",
        "\n",
        "def trace(root):\n",
        "  # builds a set of all nodes and edges in a graph\n",
        "  nodes, edges = set(), set()\n",
        "  def build(v):\n",
        "    if v not in nodes:\n",
        "      nodes.add(v)\n",
        "      for child in v._prev:\n",
        "        edges.add((child, v))\n",
        "        build(child)\n",
        "  build(root)\n",
        "  return nodes, edges\n",
        "\n",
        "def draw_dot(root):\n",
        "  dot = Digraph(format='svg', graph_attr={'rankdir': 'LR'}) # LR = left to right\n",
        "\n",
        "  nodes, edges = trace(root)\n",
        "  for n in nodes:\n",
        "    uid = str(id(n))\n",
        "    # for any value in the graph, create a rectangular ('record') node for it\n",
        "    dot.node(name = uid, label = \"{%s |data %.4f |grad %.4f }\" % (n.label,n.data,n.grad,), shape='record')\n",
        "    if n._op:\n",
        "      # if this value is a result of some operation, create an op node for it\n",
        "      dot.node(name = uid + n._op, label = n._op)\n",
        "      # and connect this node to it\n",
        "      dot.edge(uid + n._op, uid)\n",
        "\n",
        "  for n1, n2 in edges:\n",
        "    # connect n1 to the op node of n2\n",
        "    dot.edge(str(id(n1)), str(id(n2)) + n2._op)\n",
        "\n",
        "  return dot"
      ],
      "metadata": {
        "id": "ViR1HwOp4axh"
      },
      "execution_count": 2,
      "outputs": []
    },
    {
      "cell_type": "code",
      "source": [
        "# inputs\n",
        "x1 = Value(2.0, label ='x1')\n",
        "x2 = Value(0.0, label='x2')\n",
        "\n",
        "# weight w1, w2\n",
        "w1 = Value(-3.0, label='w1')\n",
        "w2 = Value(1.0, label='w2')\n",
        "b = Value(6.8813735870195432, label='b')\n",
        "\n",
        "x1w1 = x1*w1; x1w1.label = 'x1w1'\n",
        "x2w2 = x2*w2; x2w2.label = 'x2w2'\n",
        "\n",
        "x1w1x2w2 = x1w1 + x2w2; x1w1x2w2.label = 'x1w1x2w2'\n",
        "n = x1w1x2w2 + b; n.label = 'n'\n",
        "\n",
        "# --\n",
        "e = (2*n).exp()\n",
        "o = (e-1)/ (e+1)\n",
        "\n",
        "o.label = 'o'\n",
        "o.backward()\n",
        "draw_dot(o)"
      ],
      "metadata": {
        "colab": {
          "base_uri": "https://localhost:8080/",
          "height": 356
        },
        "id": "vPGNtNIt4RaW",
        "outputId": "b9fb9bd4-7f44-4a23-b0b4-9b772fe902fd"
      },
      "execution_count": 23,
      "outputs": [
        {
          "output_type": "execute_result",
          "data": {
            "image/svg+xml": "<?xml version=\"1.0\" encoding=\"UTF-8\" standalone=\"no\"?>\n<!DOCTYPE svg PUBLIC \"-//W3C//DTD SVG 1.1//EN\"\n \"http://www.w3.org/Graphics/SVG/1.1/DTD/svg11.dtd\">\n<!-- Generated by graphviz version 2.43.0 (0)\n -->\n<!-- Title: %3 Pages: 1 -->\n<svg width=\"2909pt\" height=\"236pt\"\n viewBox=\"0.00 0.00 2909.00 236.00\" xmlns=\"http://www.w3.org/2000/svg\" xmlns:xlink=\"http://www.w3.org/1999/xlink\">\n<g id=\"graph0\" class=\"graph\" transform=\"scale(1 1) rotate(0) translate(4 232)\">\n<title>%3</title>\n<polygon fill=\"white\" stroke=\"transparent\" points=\"-4,4 -4,-232 2905,-232 2905,4 -4,4\"/>\n<!-- 139148534303232 -->\n<g id=\"node1\" class=\"node\">\n<title>139148534303232</title>\n<polygon fill=\"none\" stroke=\"black\" points=\"328.5,-55.5 328.5,-91.5 537.5,-91.5 537.5,-55.5 328.5,-55.5\"/>\n<text text-anchor=\"middle\" x=\"352\" y=\"-69.8\" font-family=\"Times,serif\" font-size=\"14.00\">x2w2</text>\n<polyline fill=\"none\" stroke=\"black\" points=\"375.5,-55.5 375.5,-91.5 \"/>\n<text text-anchor=\"middle\" x=\"415.5\" y=\"-69.8\" font-family=\"Times,serif\" font-size=\"14.00\">data 0.0000</text>\n<polyline fill=\"none\" stroke=\"black\" points=\"455.5,-55.5 455.5,-91.5 \"/>\n<text text-anchor=\"middle\" x=\"496.5\" y=\"-69.8\" font-family=\"Times,serif\" font-size=\"14.00\">grad 0.5000</text>\n</g>\n<!-- 139148534307072+ -->\n<g id=\"node12\" class=\"node\">\n<title>139148534307072+</title>\n<ellipse fill=\"none\" stroke=\"black\" cx=\"603\" cy=\"-100.5\" rx=\"27\" ry=\"18\"/>\n<text text-anchor=\"middle\" x=\"603\" y=\"-96.8\" font-family=\"Times,serif\" font-size=\"14.00\">+</text>\n</g>\n<!-- 139148534303232&#45;&gt;139148534307072+ -->\n<g id=\"edge20\" class=\"edge\">\n<title>139148534303232&#45;&gt;139148534307072+</title>\n<path fill=\"none\" stroke=\"black\" d=\"M537.53,-90.14C547.8,-91.79 557.66,-93.37 566.45,-94.79\"/>\n<polygon fill=\"black\" stroke=\"black\" points=\"566.16,-98.28 576.59,-96.42 567.27,-91.37 566.16,-98.28\"/>\n</g>\n<!-- 139148534303232* -->\n<g id=\"node2\" class=\"node\">\n<title>139148534303232*</title>\n<ellipse fill=\"none\" stroke=\"black\" cx=\"263\" cy=\"-73.5\" rx=\"27\" ry=\"18\"/>\n<text text-anchor=\"middle\" x=\"263\" y=\"-69.8\" font-family=\"Times,serif\" font-size=\"14.00\">*</text>\n</g>\n<!-- 139148534303232*&#45;&gt;139148534303232 -->\n<g id=\"edge1\" class=\"edge\">\n<title>139148534303232*&#45;&gt;139148534303232</title>\n<path fill=\"none\" stroke=\"black\" d=\"M290.25,-73.5C298.43,-73.5 308.03,-73.5 318.31,-73.5\"/>\n<polygon fill=\"black\" stroke=\"black\" points=\"318.35,-77 328.35,-73.5 318.35,-70 318.35,-77\"/>\n</g>\n<!-- 139148534307936 -->\n<g id=\"node3\" class=\"node\">\n<title>139148534307936</title>\n<polygon fill=\"none\" stroke=\"black\" points=\"1655.5,-191.5 1655.5,-227.5 1841.5,-227.5 1841.5,-191.5 1655.5,-191.5\"/>\n<text text-anchor=\"middle\" x=\"1665.5\" y=\"-205.8\" font-family=\"Times,serif\" font-size=\"14.00\"> </text>\n<polyline fill=\"none\" stroke=\"black\" points=\"1675.5,-191.5 1675.5,-227.5 \"/>\n<text text-anchor=\"middle\" x=\"1715.5\" y=\"-205.8\" font-family=\"Times,serif\" font-size=\"14.00\">data 1.0000</text>\n<polyline fill=\"none\" stroke=\"black\" points=\"1755.5,-191.5 1755.5,-227.5 \"/>\n<text text-anchor=\"middle\" x=\"1798.5\" y=\"-205.8\" font-family=\"Times,serif\" font-size=\"14.00\">grad &#45;0.1036</text>\n</g>\n<!-- 139148534313840+ -->\n<g id=\"node22\" class=\"node\">\n<title>139148534313840+</title>\n<ellipse fill=\"none\" stroke=\"black\" cx=\"1905\" cy=\"-181.5\" rx=\"27\" ry=\"18\"/>\n<text text-anchor=\"middle\" x=\"1905\" y=\"-177.8\" font-family=\"Times,serif\" font-size=\"14.00\">+</text>\n</g>\n<!-- 139148534307936&#45;&gt;139148534313840+ -->\n<g id=\"edge28\" class=\"edge\">\n<title>139148534307936&#45;&gt;139148534313840+</title>\n<path fill=\"none\" stroke=\"black\" d=\"M1841.6,-192.81C1851.15,-191.08 1860.37,-189.41 1868.68,-187.9\"/>\n<polygon fill=\"black\" stroke=\"black\" points=\"1869.43,-191.32 1878.65,-186.09 1868.18,-184.43 1869.43,-191.32\"/>\n</g>\n<!-- 139148534301792 -->\n<g id=\"node4\" class=\"node\">\n<title>139148534301792</title>\n<polygon fill=\"none\" stroke=\"black\" points=\"1037.5,-164.5 1037.5,-200.5 1219.5,-200.5 1219.5,-164.5 1037.5,-164.5\"/>\n<text text-anchor=\"middle\" x=\"1047.5\" y=\"-178.8\" font-family=\"Times,serif\" font-size=\"14.00\"> </text>\n<polyline fill=\"none\" stroke=\"black\" points=\"1057.5,-164.5 1057.5,-200.5 \"/>\n<text text-anchor=\"middle\" x=\"1097.5\" y=\"-178.8\" font-family=\"Times,serif\" font-size=\"14.00\">data 2.0000</text>\n<polyline fill=\"none\" stroke=\"black\" points=\"1137.5,-164.5 1137.5,-200.5 \"/>\n<text text-anchor=\"middle\" x=\"1178.5\" y=\"-178.8\" font-family=\"Times,serif\" font-size=\"14.00\">grad 0.2203</text>\n</g>\n<!-- 139148534301120* -->\n<g id=\"node25\" class=\"node\">\n<title>139148534301120*</title>\n<ellipse fill=\"none\" stroke=\"black\" cx=\"1284\" cy=\"-154.5\" rx=\"27\" ry=\"18\"/>\n<text text-anchor=\"middle\" x=\"1284\" y=\"-150.8\" font-family=\"Times,serif\" font-size=\"14.00\">*</text>\n</g>\n<!-- 139148534301792&#45;&gt;139148534301120* -->\n<g id=\"edge16\" class=\"edge\">\n<title>139148534301792&#45;&gt;139148534301120*</title>\n<path fill=\"none\" stroke=\"black\" d=\"M1219.68,-166.05C1229.61,-164.24 1239.23,-162.48 1247.84,-160.91\"/>\n<polygon fill=\"black\" stroke=\"black\" points=\"1248.6,-164.33 1257.81,-159.09 1247.35,-157.45 1248.6,-164.33\"/>\n</g>\n<!-- 139148534315664 -->\n<g id=\"node5\" class=\"node\">\n<title>139148534315664</title>\n<polygon fill=\"none\" stroke=\"black\" points=\"0,-165.5 0,-201.5 200,-201.5 200,-165.5 0,-165.5\"/>\n<text text-anchor=\"middle\" x=\"16.5\" y=\"-179.8\" font-family=\"Times,serif\" font-size=\"14.00\">w1</text>\n<polyline fill=\"none\" stroke=\"black\" points=\"33,-165.5 33,-201.5 \"/>\n<text text-anchor=\"middle\" x=\"75.5\" y=\"-179.8\" font-family=\"Times,serif\" font-size=\"14.00\">data &#45;3.0000</text>\n<polyline fill=\"none\" stroke=\"black\" points=\"118,-165.5 118,-201.5 \"/>\n<text text-anchor=\"middle\" x=\"159\" y=\"-179.8\" font-family=\"Times,serif\" font-size=\"14.00\">grad 1.0000</text>\n</g>\n<!-- 139148534302656* -->\n<g id=\"node15\" class=\"node\">\n<title>139148534302656*</title>\n<ellipse fill=\"none\" stroke=\"black\" cx=\"263\" cy=\"-128.5\" rx=\"27\" ry=\"18\"/>\n<text text-anchor=\"middle\" x=\"263\" y=\"-124.8\" font-family=\"Times,serif\" font-size=\"14.00\">*</text>\n</g>\n<!-- 139148534315664&#45;&gt;139148534302656* -->\n<g id=\"edge21\" class=\"edge\">\n<title>139148534315664&#45;&gt;139148534302656*</title>\n<path fill=\"none\" stroke=\"black\" d=\"M172.53,-165.44C181.84,-162.67 191.2,-159.67 200,-156.5 210.53,-152.71 221.75,-147.9 231.72,-143.33\"/>\n<polygon fill=\"black\" stroke=\"black\" points=\"233.25,-146.48 240.82,-139.07 230.28,-140.14 233.25,-146.48\"/>\n</g>\n<!-- 139148534300832 -->\n<g id=\"node6\" class=\"node\">\n<title>139148534300832</title>\n<polygon fill=\"none\" stroke=\"black\" points=\"2408,-161.5 2408,-197.5 2590,-197.5 2590,-161.5 2408,-161.5\"/>\n<text text-anchor=\"middle\" x=\"2418\" y=\"-175.8\" font-family=\"Times,serif\" font-size=\"14.00\"> </text>\n<polyline fill=\"none\" stroke=\"black\" points=\"2428,-161.5 2428,-197.5 \"/>\n<text text-anchor=\"middle\" x=\"2468\" y=\"-175.8\" font-family=\"Times,serif\" font-size=\"14.00\">data 0.1464</text>\n<polyline fill=\"none\" stroke=\"black\" points=\"2508,-161.5 2508,-197.5 \"/>\n<text text-anchor=\"middle\" x=\"2549\" y=\"-175.8\" font-family=\"Times,serif\" font-size=\"14.00\">grad 4.8284</text>\n</g>\n<!-- 139148534310720* -->\n<g id=\"node17\" class=\"node\">\n<title>139148534310720*</title>\n<ellipse fill=\"none\" stroke=\"black\" cx=\"2653\" cy=\"-153.5\" rx=\"27\" ry=\"18\"/>\n<text text-anchor=\"middle\" x=\"2653\" y=\"-149.8\" font-family=\"Times,serif\" font-size=\"14.00\">*</text>\n</g>\n<!-- 139148534300832&#45;&gt;139148534310720* -->\n<g id=\"edge12\" class=\"edge\">\n<title>139148534300832&#45;&gt;139148534310720*</title>\n<path fill=\"none\" stroke=\"black\" d=\"M2590.18,-164.08C2599.42,-162.49 2608.38,-160.96 2616.47,-159.58\"/>\n<polygon fill=\"black\" stroke=\"black\" points=\"2617.29,-162.99 2626.56,-157.85 2616.11,-156.09 2617.29,-162.99\"/>\n</g>\n<!-- 139148534300832**&#45;1 -->\n<g id=\"node7\" class=\"node\">\n<title>139148534300832**&#45;1</title>\n<ellipse fill=\"none\" stroke=\"black\" cx=\"2281\" cy=\"-181.5\" rx=\"27\" ry=\"18\"/>\n<text text-anchor=\"middle\" x=\"2281\" y=\"-177.8\" font-family=\"Times,serif\" font-size=\"14.00\">**&#45;1</text>\n</g>\n<!-- 139148534300832**&#45;1&#45;&gt;139148534300832 -->\n<g id=\"edge2\" class=\"edge\">\n<title>139148534300832**&#45;1&#45;&gt;139148534300832</title>\n<path fill=\"none\" stroke=\"black\" d=\"M2308.05,-181.26C2330.53,-181.05 2364.48,-180.74 2397.5,-180.43\"/>\n<polygon fill=\"black\" stroke=\"black\" points=\"2397.74,-183.93 2407.7,-180.34 2397.67,-176.93 2397.74,-183.93\"/>\n</g>\n<!-- 139148534316192 -->\n<g id=\"node8\" class=\"node\">\n<title>139148534316192</title>\n<polygon fill=\"none\" stroke=\"black\" points=\"695.5,-137.5 695.5,-173.5 880.5,-173.5 880.5,-137.5 695.5,-137.5\"/>\n<text text-anchor=\"middle\" x=\"707\" y=\"-151.8\" font-family=\"Times,serif\" font-size=\"14.00\">b</text>\n<polyline fill=\"none\" stroke=\"black\" points=\"718.5,-137.5 718.5,-173.5 \"/>\n<text text-anchor=\"middle\" x=\"758.5\" y=\"-151.8\" font-family=\"Times,serif\" font-size=\"14.00\">data 6.8814</text>\n<polyline fill=\"none\" stroke=\"black\" points=\"798.5,-137.5 798.5,-173.5 \"/>\n<text text-anchor=\"middle\" x=\"839.5\" y=\"-151.8\" font-family=\"Times,serif\" font-size=\"14.00\">grad 0.5000</text>\n</g>\n<!-- 139148534308848+ -->\n<g id=\"node28\" class=\"node\">\n<title>139148534308848+</title>\n<ellipse fill=\"none\" stroke=\"black\" cx=\"973\" cy=\"-127.5\" rx=\"27\" ry=\"18\"/>\n<text text-anchor=\"middle\" x=\"973\" y=\"-123.8\" font-family=\"Times,serif\" font-size=\"14.00\">+</text>\n</g>\n<!-- 139148534316192&#45;&gt;139148534308848+ -->\n<g id=\"edge24\" class=\"edge\">\n<title>139148534316192&#45;&gt;139148534308848+</title>\n<path fill=\"none\" stroke=\"black\" d=\"M880.77,-141.46C900.52,-138.44 920.26,-135.42 936.29,-132.96\"/>\n<polygon fill=\"black\" stroke=\"black\" points=\"936.9,-136.41 946.26,-131.44 935.85,-129.49 936.9,-136.41\"/>\n</g>\n<!-- 139148534301888 -->\n<g id=\"node9\" class=\"node\">\n<title>139148534301888</title>\n<polygon fill=\"none\" stroke=\"black\" points=\"2190,-108.5 2190,-144.5 2372,-144.5 2372,-108.5 2190,-108.5\"/>\n<text text-anchor=\"middle\" x=\"2200\" y=\"-122.8\" font-family=\"Times,serif\" font-size=\"14.00\"> </text>\n<polyline fill=\"none\" stroke=\"black\" points=\"2210,-108.5 2210,-144.5 \"/>\n<text text-anchor=\"middle\" x=\"2250\" y=\"-122.8\" font-family=\"Times,serif\" font-size=\"14.00\">data 4.8284</text>\n<polyline fill=\"none\" stroke=\"black\" points=\"2290,-108.5 2290,-144.5 \"/>\n<text text-anchor=\"middle\" x=\"2331\" y=\"-122.8\" font-family=\"Times,serif\" font-size=\"14.00\">grad 0.1464</text>\n</g>\n<!-- 139148534301888&#45;&gt;139148534310720* -->\n<g id=\"edge15\" class=\"edge\">\n<title>139148534301888&#45;&gt;139148534310720*</title>\n<path fill=\"none\" stroke=\"black\" d=\"M2372.04,-133.07C2450.41,-138.79 2559.98,-146.79 2615.96,-150.87\"/>\n<polygon fill=\"black\" stroke=\"black\" points=\"2615.87,-154.37 2626.1,-151.61 2616.38,-147.39 2615.87,-154.37\"/>\n</g>\n<!-- 139148534301888+ -->\n<g id=\"node10\" class=\"node\">\n<title>139148534301888+</title>\n<ellipse fill=\"none\" stroke=\"black\" cx=\"1905\" cy=\"-126.5\" rx=\"27\" ry=\"18\"/>\n<text text-anchor=\"middle\" x=\"1905\" y=\"-122.8\" font-family=\"Times,serif\" font-size=\"14.00\">+</text>\n</g>\n<!-- 139148534301888+&#45;&gt;139148534301888 -->\n<g id=\"edge3\" class=\"edge\">\n<title>139148534301888+&#45;&gt;139148534301888</title>\n<path fill=\"none\" stroke=\"black\" d=\"M1932,-126.5C1982.46,-126.5 2096.06,-126.5 2179.81,-126.5\"/>\n<polygon fill=\"black\" stroke=\"black\" points=\"2179.87,-130 2189.87,-126.5 2179.87,-123 2179.87,-130\"/>\n</g>\n<!-- 139148534307072 -->\n<g id=\"node11\" class=\"node\">\n<title>139148534307072</title>\n<polygon fill=\"none\" stroke=\"black\" points=\"666,-82.5 666,-118.5 910,-118.5 910,-82.5 666,-82.5\"/>\n<text text-anchor=\"middle\" x=\"704.5\" y=\"-96.8\" font-family=\"Times,serif\" font-size=\"14.00\">x1w1x2w2</text>\n<polyline fill=\"none\" stroke=\"black\" points=\"743,-82.5 743,-118.5 \"/>\n<text text-anchor=\"middle\" x=\"785.5\" y=\"-96.8\" font-family=\"Times,serif\" font-size=\"14.00\">data &#45;6.0000</text>\n<polyline fill=\"none\" stroke=\"black\" points=\"828,-82.5 828,-118.5 \"/>\n<text text-anchor=\"middle\" x=\"869\" y=\"-96.8\" font-family=\"Times,serif\" font-size=\"14.00\">grad 0.5000</text>\n</g>\n<!-- 139148534307072&#45;&gt;139148534308848+ -->\n<g id=\"edge13\" class=\"edge\">\n<title>139148534307072&#45;&gt;139148534308848+</title>\n<path fill=\"none\" stroke=\"black\" d=\"M910.04,-118.36C919.47,-119.75 928.43,-121.07 936.46,-122.26\"/>\n<polygon fill=\"black\" stroke=\"black\" points=\"936.03,-125.73 946.43,-123.73 937.05,-118.81 936.03,-125.73\"/>\n</g>\n<!-- 139148534307072+&#45;&gt;139148534307072 -->\n<g id=\"edge4\" class=\"edge\">\n<title>139148534307072+&#45;&gt;139148534307072</title>\n<path fill=\"none\" stroke=\"black\" d=\"M630.22,-100.5C637.7,-100.5 646.4,-100.5 655.79,-100.5\"/>\n<polygon fill=\"black\" stroke=\"black\" points=\"655.8,-104 665.8,-100.5 655.8,-97 655.8,-104\"/>\n</g>\n<!-- 139148534315376 -->\n<g id=\"node13\" class=\"node\">\n<title>139148534315376</title>\n<polygon fill=\"none\" stroke=\"black\" points=\"4,-55.5 4,-91.5 196,-91.5 196,-55.5 4,-55.5\"/>\n<text text-anchor=\"middle\" x=\"19\" y=\"-69.8\" font-family=\"Times,serif\" font-size=\"14.00\">x2</text>\n<polyline fill=\"none\" stroke=\"black\" points=\"34,-55.5 34,-91.5 \"/>\n<text text-anchor=\"middle\" x=\"74\" y=\"-69.8\" font-family=\"Times,serif\" font-size=\"14.00\">data 0.0000</text>\n<polyline fill=\"none\" stroke=\"black\" points=\"114,-55.5 114,-91.5 \"/>\n<text text-anchor=\"middle\" x=\"155\" y=\"-69.8\" font-family=\"Times,serif\" font-size=\"14.00\">grad 0.5000</text>\n</g>\n<!-- 139148534315376&#45;&gt;139148534303232* -->\n<g id=\"edge11\" class=\"edge\">\n<title>139148534315376&#45;&gt;139148534303232*</title>\n<path fill=\"none\" stroke=\"black\" d=\"M196.05,-73.5C206.52,-73.5 216.65,-73.5 225.71,-73.5\"/>\n<polygon fill=\"black\" stroke=\"black\" points=\"225.79,-77 235.79,-73.5 225.79,-70 225.79,-77\"/>\n</g>\n<!-- 139148534302656 -->\n<g id=\"node14\" class=\"node\">\n<title>139148534302656</title>\n<polygon fill=\"none\" stroke=\"black\" points=\"326,-110.5 326,-146.5 540,-146.5 540,-110.5 326,-110.5\"/>\n<text text-anchor=\"middle\" x=\"349.5\" y=\"-124.8\" font-family=\"Times,serif\" font-size=\"14.00\">x1w1</text>\n<polyline fill=\"none\" stroke=\"black\" points=\"373,-110.5 373,-146.5 \"/>\n<text text-anchor=\"middle\" x=\"415.5\" y=\"-124.8\" font-family=\"Times,serif\" font-size=\"14.00\">data &#45;6.0000</text>\n<polyline fill=\"none\" stroke=\"black\" points=\"458,-110.5 458,-146.5 \"/>\n<text text-anchor=\"middle\" x=\"499\" y=\"-124.8\" font-family=\"Times,serif\" font-size=\"14.00\">grad 0.5000</text>\n</g>\n<!-- 139148534302656&#45;&gt;139148534307072+ -->\n<g id=\"edge26\" class=\"edge\">\n<title>139148534302656&#45;&gt;139148534307072+</title>\n<path fill=\"none\" stroke=\"black\" d=\"M540.4,-110.77C549.72,-109.21 558.65,-107.72 566.68,-106.39\"/>\n<polygon fill=\"black\" stroke=\"black\" points=\"567.38,-109.82 576.66,-104.72 566.22,-102.91 567.38,-109.82\"/>\n</g>\n<!-- 139148534302656*&#45;&gt;139148534302656 -->\n<g id=\"edge5\" class=\"edge\">\n<title>139148534302656*&#45;&gt;139148534302656</title>\n<path fill=\"none\" stroke=\"black\" d=\"M290.25,-128.5C297.7,-128.5 306.34,-128.5 315.59,-128.5\"/>\n<polygon fill=\"black\" stroke=\"black\" points=\"315.84,-132 325.84,-128.5 315.84,-125 315.84,-132\"/>\n</g>\n<!-- 139148534310720 -->\n<g id=\"node16\" class=\"node\">\n<title>139148534310720</title>\n<polygon fill=\"none\" stroke=\"black\" points=\"2716,-135.5 2716,-171.5 2901,-171.5 2901,-135.5 2716,-135.5\"/>\n<text text-anchor=\"middle\" x=\"2727.5\" y=\"-149.8\" font-family=\"Times,serif\" font-size=\"14.00\">o</text>\n<polyline fill=\"none\" stroke=\"black\" points=\"2739,-135.5 2739,-171.5 \"/>\n<text text-anchor=\"middle\" x=\"2779\" y=\"-149.8\" font-family=\"Times,serif\" font-size=\"14.00\">data 0.7071</text>\n<polyline fill=\"none\" stroke=\"black\" points=\"2819,-135.5 2819,-171.5 \"/>\n<text text-anchor=\"middle\" x=\"2860\" y=\"-149.8\" font-family=\"Times,serif\" font-size=\"14.00\">grad 1.0000</text>\n</g>\n<!-- 139148534310720*&#45;&gt;139148534310720 -->\n<g id=\"edge6\" class=\"edge\">\n<title>139148534310720*&#45;&gt;139148534310720</title>\n<path fill=\"none\" stroke=\"black\" d=\"M2680.04,-153.5C2687.58,-153.5 2696.3,-153.5 2705.57,-153.5\"/>\n<polygon fill=\"black\" stroke=\"black\" points=\"2705.81,-157 2715.81,-153.5 2705.81,-150 2705.81,-157\"/>\n</g>\n<!-- 139148534316864 -->\n<g id=\"node18\" class=\"node\">\n<title>139148534316864</title>\n<polygon fill=\"none\" stroke=\"black\" points=\"2,-110.5 2,-146.5 198,-146.5 198,-110.5 2,-110.5\"/>\n<text text-anchor=\"middle\" x=\"17\" y=\"-124.8\" font-family=\"Times,serif\" font-size=\"14.00\">x1</text>\n<polyline fill=\"none\" stroke=\"black\" points=\"32,-110.5 32,-146.5 \"/>\n<text text-anchor=\"middle\" x=\"72\" y=\"-124.8\" font-family=\"Times,serif\" font-size=\"14.00\">data 2.0000</text>\n<polyline fill=\"none\" stroke=\"black\" points=\"112,-110.5 112,-146.5 \"/>\n<text text-anchor=\"middle\" x=\"155\" y=\"-124.8\" font-family=\"Times,serif\" font-size=\"14.00\">grad &#45;1.5000</text>\n</g>\n<!-- 139148534316864&#45;&gt;139148534302656* -->\n<g id=\"edge25\" class=\"edge\">\n<title>139148534316864&#45;&gt;139148534302656*</title>\n<path fill=\"none\" stroke=\"black\" d=\"M198.37,-128.5C208.05,-128.5 217.4,-128.5 225.8,-128.5\"/>\n<polygon fill=\"black\" stroke=\"black\" points=\"225.91,-132 235.91,-128.5 225.91,-125 225.91,-132\"/>\n</g>\n<!-- 139148534302560 -->\n<g id=\"node19\" class=\"node\">\n<title>139148534302560</title>\n<polygon fill=\"none\" stroke=\"black\" points=\"1657.5,-136.5 1657.5,-172.5 1839.5,-172.5 1839.5,-136.5 1657.5,-136.5\"/>\n<text text-anchor=\"middle\" x=\"1667.5\" y=\"-150.8\" font-family=\"Times,serif\" font-size=\"14.00\"> </text>\n<polyline fill=\"none\" stroke=\"black\" points=\"1677.5,-136.5 1677.5,-172.5 \"/>\n<text text-anchor=\"middle\" x=\"1717.5\" y=\"-150.8\" font-family=\"Times,serif\" font-size=\"14.00\">data 5.8284</text>\n<polyline fill=\"none\" stroke=\"black\" points=\"1757.5,-136.5 1757.5,-172.5 \"/>\n<text text-anchor=\"middle\" x=\"1798.5\" y=\"-150.8\" font-family=\"Times,serif\" font-size=\"14.00\">grad 0.0429</text>\n</g>\n<!-- 139148534302560&#45;&gt;139148534301888+ -->\n<g id=\"edge17\" class=\"edge\">\n<title>139148534302560&#45;&gt;139148534301888+</title>\n<path fill=\"none\" stroke=\"black\" d=\"M1839.82,-138.13C1850.07,-136.27 1860.01,-134.47 1868.88,-132.87\"/>\n<polygon fill=\"black\" stroke=\"black\" points=\"1869.54,-136.3 1878.75,-131.08 1868.29,-129.42 1869.54,-136.3\"/>\n</g>\n<!-- 139148534302560&#45;&gt;139148534313840+ -->\n<g id=\"edge27\" class=\"edge\">\n<title>139148534302560&#45;&gt;139148534313840+</title>\n<path fill=\"none\" stroke=\"black\" d=\"M1839.82,-170.28C1850.07,-172.08 1860.01,-173.81 1868.88,-175.36\"/>\n<polygon fill=\"black\" stroke=\"black\" points=\"1868.3,-178.81 1878.75,-177.09 1869.5,-171.92 1868.3,-178.81\"/>\n</g>\n<!-- 139148534302560exp -->\n<g id=\"node20\" class=\"node\">\n<title>139148534302560exp</title>\n<ellipse fill=\"none\" stroke=\"black\" cx=\"1592\" cy=\"-154.5\" rx=\"27\" ry=\"18\"/>\n<text text-anchor=\"middle\" x=\"1592\" y=\"-150.8\" font-family=\"Times,serif\" font-size=\"14.00\">exp</text>\n</g>\n<!-- 139148534302560exp&#45;&gt;139148534302560 -->\n<g id=\"edge7\" class=\"edge\">\n<title>139148534302560exp&#45;&gt;139148534302560</title>\n<path fill=\"none\" stroke=\"black\" d=\"M1619.21,-154.5C1627.34,-154.5 1636.85,-154.5 1646.94,-154.5\"/>\n<polygon fill=\"black\" stroke=\"black\" points=\"1647.19,-158 1657.19,-154.5 1647.19,-151 1647.19,-158\"/>\n</g>\n<!-- 139148534313840 -->\n<g id=\"node21\" class=\"node\">\n<title>139148534313840</title>\n<polygon fill=\"none\" stroke=\"black\" points=\"1968,-163.5 1968,-199.5 2154,-199.5 2154,-163.5 1968,-163.5\"/>\n<text text-anchor=\"middle\" x=\"1978\" y=\"-177.8\" font-family=\"Times,serif\" font-size=\"14.00\"> </text>\n<polyline fill=\"none\" stroke=\"black\" points=\"1988,-163.5 1988,-199.5 \"/>\n<text text-anchor=\"middle\" x=\"2028\" y=\"-177.8\" font-family=\"Times,serif\" font-size=\"14.00\">data 6.8284</text>\n<polyline fill=\"none\" stroke=\"black\" points=\"2068,-163.5 2068,-199.5 \"/>\n<text text-anchor=\"middle\" x=\"2111\" y=\"-177.8\" font-family=\"Times,serif\" font-size=\"14.00\">grad &#45;0.1036</text>\n</g>\n<!-- 139148534313840&#45;&gt;139148534300832**&#45;1 -->\n<g id=\"edge23\" class=\"edge\">\n<title>139148534313840&#45;&gt;139148534300832**&#45;1</title>\n<path fill=\"none\" stroke=\"black\" d=\"M2154.14,-181.5C2185.72,-181.5 2219.24,-181.5 2243.74,-181.5\"/>\n<polygon fill=\"black\" stroke=\"black\" points=\"2243.98,-185 2253.98,-181.5 2243.98,-178 2243.98,-185\"/>\n</g>\n<!-- 139148534313840+&#45;&gt;139148534313840 -->\n<g id=\"edge8\" class=\"edge\">\n<title>139148534313840+&#45;&gt;139148534313840</title>\n<path fill=\"none\" stroke=\"black\" d=\"M1932.12,-181.5C1939.62,-181.5 1948.29,-181.5 1957.5,-181.5\"/>\n<polygon fill=\"black\" stroke=\"black\" points=\"1957.69,-185 1967.69,-181.5 1957.69,-178 1957.69,-185\"/>\n</g>\n<!-- 139148534307264 -->\n<g id=\"node23\" class=\"node\">\n<title>139148534307264</title>\n<polygon fill=\"none\" stroke=\"black\" points=\"1655,-81.5 1655,-117.5 1842,-117.5 1842,-81.5 1655,-81.5\"/>\n<text text-anchor=\"middle\" x=\"1665\" y=\"-95.8\" font-family=\"Times,serif\" font-size=\"14.00\"> </text>\n<polyline fill=\"none\" stroke=\"black\" points=\"1675,-81.5 1675,-117.5 \"/>\n<text text-anchor=\"middle\" x=\"1717.5\" y=\"-95.8\" font-family=\"Times,serif\" font-size=\"14.00\">data &#45;1.0000</text>\n<polyline fill=\"none\" stroke=\"black\" points=\"1760,-81.5 1760,-117.5 \"/>\n<text text-anchor=\"middle\" x=\"1801\" y=\"-95.8\" font-family=\"Times,serif\" font-size=\"14.00\">grad 0.1464</text>\n</g>\n<!-- 139148534307264&#45;&gt;139148534301888+ -->\n<g id=\"edge22\" class=\"edge\">\n<title>139148534307264&#45;&gt;139148534301888+</title>\n<path fill=\"none\" stroke=\"black\" d=\"M1842.05,-115.67C1851.34,-117.3 1860.33,-118.87 1868.44,-120.29\"/>\n<polygon fill=\"black\" stroke=\"black\" points=\"1868.1,-123.78 1878.55,-122.05 1869.3,-116.88 1868.1,-123.78\"/>\n</g>\n<!-- 139148534301120 -->\n<g id=\"node24\" class=\"node\">\n<title>139148534301120</title>\n<polygon fill=\"none\" stroke=\"black\" points=\"1347,-136.5 1347,-172.5 1529,-172.5 1529,-136.5 1347,-136.5\"/>\n<text text-anchor=\"middle\" x=\"1357\" y=\"-150.8\" font-family=\"Times,serif\" font-size=\"14.00\"> </text>\n<polyline fill=\"none\" stroke=\"black\" points=\"1367,-136.5 1367,-172.5 \"/>\n<text text-anchor=\"middle\" x=\"1407\" y=\"-150.8\" font-family=\"Times,serif\" font-size=\"14.00\">data 1.7627</text>\n<polyline fill=\"none\" stroke=\"black\" points=\"1447,-136.5 1447,-172.5 \"/>\n<text text-anchor=\"middle\" x=\"1488\" y=\"-150.8\" font-family=\"Times,serif\" font-size=\"14.00\">grad 0.2500</text>\n</g>\n<!-- 139148534301120&#45;&gt;139148534302560exp -->\n<g id=\"edge19\" class=\"edge\">\n<title>139148534301120&#45;&gt;139148534302560exp</title>\n<path fill=\"none\" stroke=\"black\" d=\"M1529.18,-154.5C1538.14,-154.5 1546.83,-154.5 1554.73,-154.5\"/>\n<polygon fill=\"black\" stroke=\"black\" points=\"1554.96,-158 1564.96,-154.5 1554.96,-151 1554.96,-158\"/>\n</g>\n<!-- 139148534301120*&#45;&gt;139148534301120 -->\n<g id=\"edge9\" class=\"edge\">\n<title>139148534301120*&#45;&gt;139148534301120</title>\n<path fill=\"none\" stroke=\"black\" d=\"M1311.13,-154.5C1318.67,-154.5 1327.39,-154.5 1336.64,-154.5\"/>\n<polygon fill=\"black\" stroke=\"black\" points=\"1336.87,-158 1346.87,-154.5 1336.87,-151 1336.87,-158\"/>\n</g>\n<!-- 139148534315472 -->\n<g id=\"node26\" class=\"node\">\n<title>139148534315472</title>\n<polygon fill=\"none\" stroke=\"black\" points=\"2.5,-0.5 2.5,-36.5 197.5,-36.5 197.5,-0.5 2.5,-0.5\"/>\n<text text-anchor=\"middle\" x=\"19\" y=\"-14.8\" font-family=\"Times,serif\" font-size=\"14.00\">w2</text>\n<polyline fill=\"none\" stroke=\"black\" points=\"35.5,-0.5 35.5,-36.5 \"/>\n<text text-anchor=\"middle\" x=\"75.5\" y=\"-14.8\" font-family=\"Times,serif\" font-size=\"14.00\">data 1.0000</text>\n<polyline fill=\"none\" stroke=\"black\" points=\"115.5,-0.5 115.5,-36.5 \"/>\n<text text-anchor=\"middle\" x=\"156.5\" y=\"-14.8\" font-family=\"Times,serif\" font-size=\"14.00\">grad 0.0000</text>\n</g>\n<!-- 139148534315472&#45;&gt;139148534303232* -->\n<g id=\"edge14\" class=\"edge\">\n<title>139148534315472&#45;&gt;139148534303232*</title>\n<path fill=\"none\" stroke=\"black\" d=\"M172.53,-36.56C181.84,-39.33 191.2,-42.33 200,-45.5 210.53,-49.29 221.75,-54.1 231.72,-58.67\"/>\n<polygon fill=\"black\" stroke=\"black\" points=\"230.28,-61.86 240.82,-62.93 233.25,-55.52 230.28,-61.86\"/>\n</g>\n<!-- 139148534308848 -->\n<g id=\"node27\" class=\"node\">\n<title>139148534308848</title>\n<polygon fill=\"none\" stroke=\"black\" points=\"1036,-109.5 1036,-145.5 1221,-145.5 1221,-109.5 1036,-109.5\"/>\n<text text-anchor=\"middle\" x=\"1047.5\" y=\"-123.8\" font-family=\"Times,serif\" font-size=\"14.00\">n</text>\n<polyline fill=\"none\" stroke=\"black\" points=\"1059,-109.5 1059,-145.5 \"/>\n<text text-anchor=\"middle\" x=\"1099\" y=\"-123.8\" font-family=\"Times,serif\" font-size=\"14.00\">data 0.8814</text>\n<polyline fill=\"none\" stroke=\"black\" points=\"1139,-109.5 1139,-145.5 \"/>\n<text text-anchor=\"middle\" x=\"1180\" y=\"-123.8\" font-family=\"Times,serif\" font-size=\"14.00\">grad 0.5000</text>\n</g>\n<!-- 139148534308848&#45;&gt;139148534301120* -->\n<g id=\"edge18\" class=\"edge\">\n<title>139148534308848&#45;&gt;139148534301120*</title>\n<path fill=\"none\" stroke=\"black\" d=\"M1221.01,-143.6C1230.49,-145.26 1239.66,-146.88 1247.9,-148.33\"/>\n<polygon fill=\"black\" stroke=\"black\" points=\"1247.36,-151.78 1257.81,-150.07 1248.57,-144.89 1247.36,-151.78\"/>\n</g>\n<!-- 139148534308848+&#45;&gt;139148534308848 -->\n<g id=\"edge10\" class=\"edge\">\n<title>139148534308848+&#45;&gt;139148534308848</title>\n<path fill=\"none\" stroke=\"black\" d=\"M1000.04,-127.5C1007.58,-127.5 1016.3,-127.5 1025.57,-127.5\"/>\n<polygon fill=\"black\" stroke=\"black\" points=\"1025.81,-131 1035.81,-127.5 1025.81,-124 1025.81,-131\"/>\n</g>\n</g>\n</svg>\n",
            "text/plain": [
              "<graphviz.graphs.Digraph at 0x7e8e0af54be0>"
            ]
          },
          "metadata": {},
          "execution_count": 23
        }
      ]
    },
    {
      "cell_type": "markdown",
      "source": [
        "This is a recursive algorithm that keeps iterating over the value objects until it reaches a value object that does not have anything in `_prev`."
      ],
      "metadata": {
        "id": "Lo6SjnkaLCEW"
      }
    },
    {
      "cell_type": "markdown",
      "source": [
        "Micrograd is a sclar valued engine; it would be interesting to extend this.."
      ],
      "metadata": {
        "id": "hyJgOjEFTZWj"
      }
    },
    {
      "cell_type": "code",
      "source": [
        "import torch"
      ],
      "metadata": {
        "id": "Sfxgxrw1nKuq"
      },
      "execution_count": 1,
      "outputs": []
    },
    {
      "cell_type": "code",
      "source": [
        "x1 = torch.Tensor([2.0]).double()   ; x1.requires_grad = True\n",
        "x2 = torch.Tensor([0.0]).double()   ; x2.requires_grad = True\n",
        "w1 = torch.Tensor([-3.0]).double()  ; w1.requires_grad = True\n",
        "w2 = torch.Tensor([1.0]).double()   ; w2.requires_grad = True\n",
        "b = torch.Tensor([6.8813735870195432]).double() ; b.requires_grad = True\n",
        "n = x1*w1 + x2*w2 + b\n",
        "o = torch.tanh(n)\n",
        "\n",
        "print(o.data.item())"
      ],
      "metadata": {
        "colab": {
          "base_uri": "https://localhost:8080/"
        },
        "id": "kNTglz8wTiat",
        "outputId": "c35cf349-f6fb-4c95-efbd-98906a7a2d86"
      },
      "execution_count": 8,
      "outputs": [
        {
          "output_type": "stream",
          "name": "stdout",
          "text": [
            "0.7071066904050358\n"
          ]
        }
      ]
    },
    {
      "cell_type": "code",
      "source": [
        "o.backward()"
      ],
      "metadata": {
        "id": "LsyUotdcTqRh"
      },
      "execution_count": 9,
      "outputs": []
    },
    {
      "cell_type": "code",
      "source": [
        "print(x1.grad.item())\n",
        "print(x2.grad.item())\n",
        "print(w1.grad.item())\n",
        "print(w2.grad.item())"
      ],
      "metadata": {
        "colab": {
          "base_uri": "https://localhost:8080/"
        },
        "id": "wGSe9uSrTqvq",
        "outputId": "ab73f02d-eae4-4cdc-f465-6f30106f0f0f"
      },
      "execution_count": 13,
      "outputs": [
        {
          "output_type": "stream",
          "name": "stdout",
          "text": [
            "-1.5000003851533106\n",
            "0.5000001283844369\n",
            "1.0000002567688737\n",
            "0.0\n"
          ]
        }
      ]
    },
    {
      "cell_type": "markdown",
      "source": [
        "Now that we have the machinery to build out complicated mathematical expressions, we can also start building up neural networks."
      ],
      "metadata": {
        "id": "TlBKEj35WDLr"
      }
    },
    {
      "cell_type": "code",
      "source": [
        "import math\n",
        "import random\n",
        "\n",
        "class Neuron:\n",
        "   # constructor takes number of inputs and construct a weight\n",
        "  def __init__(self, nin):\n",
        "    self.w = [Value(random.uniform(-1,1)) for _ in range(nin)]\n",
        "    self.b = Value(random.uniform(-1,1))"
      ],
      "metadata": {
        "id": "Z2EUQ4gZU6Z5"
      },
      "execution_count": 8,
      "outputs": []
    },
    {
      "cell_type": "code",
      "source": [],
      "metadata": {
        "id": "ZS-K7SEfW1lC"
      },
      "execution_count": null,
      "outputs": []
    }
  ]
}