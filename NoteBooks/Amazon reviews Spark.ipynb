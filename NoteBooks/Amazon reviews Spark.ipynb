{
 "cells": [
  {
   "cell_type": "code",
   "execution_count": 1,
   "metadata": {},
   "outputs": [],
   "source": [
    "import matplotlib.pyplot as plt\n",
    "from pyspark.sql.functions import *\n",
    "from pyspark.ml import Pipeline, PipelineModel\n",
    "from pyspark.ml.classification import GBTClassifier, RandomForestClassifier\n",
    "from pyspark.ml.classification import MultilayerPerceptronClassifier\n",
    "from pyspark.ml.classification import LinearSVC\n",
    "from pyspark.ml.classification import NaiveBayes\n",
    "from pyspark.mllib.feature import Word2Vec\n",
    "from pyspark.mllib.evaluation import BinaryClassificationMetrics\n",
    "from pyspark.mllib.evaluation import MulticlassMetrics\n",
    "from pyspark.mllib.util import MLUtils\n",
    "\n",
    "from pyspark.ml.feature import Tokenizer, RegexTokenizer, CountVectorizer\n",
    "from pyspark.ml.feature import StopWordsRemover, HashingTF, IDF\n",
    "from pyspark.ml.feature import OneHotEncoder, StringIndexer, VectorIndexer\n",
    "from pyspark.ml.classification import LogisticRegression,LogisticRegressionModel\n",
    "from pyspark.ml.classification import DecisionTreeClassifier\n",
    "from pyspark.mllib.evaluation import BinaryClassificationMetrics\n",
    "from pyspark.ml.evaluation import BinaryClassificationEvaluator"
   ]
  },
  {
   "cell_type": "markdown",
   "metadata": {},
   "source": [
    "Notice the different ways I tried to read this file, option 3 is the best one"
   ]
  },
  {
   "cell_type": "code",
   "execution_count": 3,
   "metadata": {},
   "outputs": [],
   "source": [
    "#Data = spark.read.format(\"csv\").option(\"header\", \"true\").load(\"alexa.tsv\")"
   ]
  },
  {
   "cell_type": "code",
   "execution_count": 21,
   "metadata": {},
   "outputs": [],
   "source": [
    "#Data = sqlContext.read.format(\"com.databricks.spark.csv\").option(\"sep\", \"\\t\").load(\"alexa.tsv\")"
   ]
  },
  {
   "cell_type": "code",
   "execution_count": 27,
   "metadata": {},
   "outputs": [],
   "source": [
    "Data = spark.read.option(\"sep\", \"\\t\").option(\"header\", \"true\").csv(\"alexa.tsv\")"
   ]
  },
  {
   "cell_type": "code",
   "execution_count": 28,
   "metadata": {},
   "outputs": [
    {
     "name": "stdout",
     "output_type": "stream",
     "text": [
      "+------+---------+--------------------+--------------------+--------+\n",
      "|rating|     date|           variation|    verified_reviews|feedback|\n",
      "+------+---------+--------------------+--------------------+--------+\n",
      "|     5|31-Jul-18|    Charcoal Fabric |       Love my Echo!|       1|\n",
      "|     5|31-Jul-18|    Charcoal Fabric |           Loved it!|       1|\n",
      "|     4|31-Jul-18|      Walnut Finish |Sometimes while p...|       1|\n",
      "|     5|31-Jul-18|    Charcoal Fabric |I have had a lot ...|       1|\n",
      "|     5|31-Jul-18|    Charcoal Fabric |               Music|       1|\n",
      "|     5|31-Jul-18|Heather Gray Fabric |I received the ec...|       1|\n",
      "|     3|31-Jul-18|   Sandstone Fabric |Without having a ...|       1|\n",
      "|     5|31-Jul-18|    Charcoal Fabric |I think this is t...|       1|\n",
      "|     5|30-Jul-18|Heather Gray Fabric |         looks great|       1|\n",
      "|     5|30-Jul-18|Heather Gray Fabric |Love it! I’ve lis...|       1|\n",
      "|     5|30-Jul-18|    Charcoal Fabric |I sent it to my 8...|       1|\n",
      "|     5|30-Jul-18|    Charcoal Fabric |I love it! Learni...|       1|\n",
      "|     5|30-Jul-18|         Oak Finish |I purchased this ...|       1|\n",
      "|     5|30-Jul-18|    Charcoal Fabric |  Love, Love, Love!!|       1|\n",
      "|     5|30-Jul-18|         Oak Finish |Just what I expec...|       1|\n",
      "|     5|30-Jul-18|Heather Gray Fabric |I love it, wife h...|       1|\n",
      "|     5|30-Jul-18|Heather Gray Fabric |Really happy with...|       1|\n",
      "|     5|30-Jul-18|Heather Gray Fabric |We have only been...|       1|\n",
      "|     5|30-Jul-18|    Charcoal Fabric |We love the size ...|       1|\n",
      "|     4|30-Jul-18|   Sandstone Fabric |I liked the origi...|       1|\n",
      "+------+---------+--------------------+--------------------+--------+\n",
      "only showing top 20 rows\n",
      "\n"
     ]
    }
   ],
   "source": [
    "Data.show()"
   ]
  },
  {
   "cell_type": "code",
   "execution_count": 30,
   "metadata": {},
   "outputs": [
    {
     "name": "stdout",
     "output_type": "stream",
     "text": [
      "+--------------------+--------+\n",
      "|    verified_reviews|feedback|\n",
      "+--------------------+--------+\n",
      "|       Love my Echo!|       1|\n",
      "|           Loved it!|       1|\n",
      "|Sometimes while p...|       1|\n",
      "|I have had a lot ...|       1|\n",
      "|               Music|       1|\n",
      "|I received the ec...|       1|\n",
      "|Without having a ...|       1|\n",
      "|I think this is t...|       1|\n",
      "|         looks great|       1|\n",
      "|Love it! I’ve lis...|       1|\n",
      "|I sent it to my 8...|       1|\n",
      "|I love it! Learni...|       1|\n",
      "|I purchased this ...|       1|\n",
      "|  Love, Love, Love!!|       1|\n",
      "|Just what I expec...|       1|\n",
      "|I love it, wife h...|       1|\n",
      "|Really happy with...|       1|\n",
      "|We have only been...|       1|\n",
      "|We love the size ...|       1|\n",
      "|I liked the origi...|       1|\n",
      "+--------------------+--------+\n",
      "only showing top 20 rows\n",
      "\n"
     ]
    }
   ],
   "source": [
    "reviews = Data.select('verified_reviews','feedback')\n",
    "reviews.show()"
   ]
  },
  {
   "cell_type": "markdown",
   "metadata": {},
   "source": [
    "# Filtering Positve and Negative Reviews (Skip This for Now):"
   ]
  },
  {
   "cell_type": "code",
   "execution_count": 64,
   "metadata": {},
   "outputs": [],
   "source": [
    "positiveReviews = reviews.filter(reviews.feedback == 1).withColumn(\"feedback\", lit(1.0))\n",
    "negativeReviews = reviews.filter(reviews.feedback == 0).withColumn(\"feedback\", lit(0.0))"
   ]
  },
  {
   "cell_type": "code",
   "execution_count": 66,
   "metadata": {},
   "outputs": [],
   "source": [
    "reviews = positiveReviews.union(negativeReviews)"
   ]
  },
  {
   "cell_type": "code",
   "execution_count": 67,
   "metadata": {},
   "outputs": [
    {
     "name": "stdout",
     "output_type": "stream",
     "text": [
      "+--------------------+--------+\n",
      "|    verified_reviews|feedback|\n",
      "+--------------------+--------+\n",
      "|       Love my Echo!|     1.0|\n",
      "|           Loved it!|     1.0|\n",
      "|Sometimes while p...|     1.0|\n",
      "|I have had a lot ...|     1.0|\n",
      "|               Music|     1.0|\n",
      "|I received the ec...|     1.0|\n",
      "|Without having a ...|     1.0|\n",
      "|I think this is t...|     1.0|\n",
      "|         looks great|     1.0|\n",
      "|Love it! I’ve lis...|     1.0|\n",
      "|I sent it to my 8...|     1.0|\n",
      "|I love it! Learni...|     1.0|\n",
      "|I purchased this ...|     1.0|\n",
      "|  Love, Love, Love!!|     1.0|\n",
      "|Just what I expec...|     1.0|\n",
      "|I love it, wife h...|     1.0|\n",
      "|Really happy with...|     1.0|\n",
      "|We have only been...|     1.0|\n",
      "|We love the size ...|     1.0|\n",
      "|I liked the origi...|     1.0|\n",
      "+--------------------+--------+\n",
      "only showing top 20 rows\n",
      "\n"
     ]
    }
   ],
   "source": [
    "reviews.show()"
   ]
  },
  {
   "cell_type": "markdown",
   "metadata": {},
   "source": [
    "# Cleaning Data"
   ]
  },
  {
   "cell_type": "code",
   "execution_count": 68,
   "metadata": {},
   "outputs": [],
   "source": [
    "cleanReviews= reviews.select('feedback', (lower(regexp_replace('verified_reviews', \"[^a-zA-Z\\\\s]\", \"\"))).alias('text'))\n",
    "cleanReviews = cleanReviews.select('feedback', (regexp_replace(col(\"text\"), \"^[ \\t]+|[ \\t]+$\", \"\")).alias('reviewText'))\n",
    "\n"
   ]
  },
  {
   "cell_type": "code",
   "execution_count": 69,
   "metadata": {
    "scrolled": true
   },
   "outputs": [
    {
     "name": "stdout",
     "output_type": "stream",
     "text": [
      "+--------+--------------------+\n",
      "|feedback|          reviewText|\n",
      "+--------+--------------------+\n",
      "|     1.0|        love my echo|\n",
      "|     1.0|            loved it|\n",
      "|     1.0|sometimes while p...|\n",
      "|     1.0|i have had a lot ...|\n",
      "|     1.0|               music|\n",
      "|     1.0|i received the ec...|\n",
      "|     1.0|without having a ...|\n",
      "|     1.0|i think this is t...|\n",
      "|     1.0|         looks great|\n",
      "|     1.0|love it ive liste...|\n",
      "|     1.0|i sent it to my  ...|\n",
      "|     1.0|i love it learnin...|\n",
      "|     1.0|i purchased this ...|\n",
      "|     1.0|      love love love|\n",
      "|     1.0|just what i expected|\n",
      "|     1.0|i love it wife ha...|\n",
      "|     1.0|really happy with...|\n",
      "|     1.0|we have only been...|\n",
      "|     1.0|we love the size ...|\n",
      "|     1.0|i liked the origi...|\n",
      "+--------+--------------------+\n",
      "only showing top 20 rows\n",
      "\n"
     ]
    }
   ],
   "source": [
    "cleanReviews.show()"
   ]
  },
  {
   "cell_type": "markdown",
   "metadata": {},
   "source": [
    "# TF-IDF -- 200 Tokens"
   ]
  },
  {
   "cell_type": "code",
   "execution_count": 134,
   "metadata": {},
   "outputs": [],
   "source": [
    "tokenizer = Tokenizer(inputCol=\"reviewText\", outputCol=\"words\")\n",
    "remover = StopWordsRemover(inputCol=tokenizer.getOutputCol(),outputCol=\"filtered\")\n",
    "cv = HashingTF(inputCol=remover.getOutputCol(), outputCol=\"rawFeatures\", numFeatures=10000)\n",
    "idf = IDF(inputCol= cv.getOutputCol(), outputCol=\"tf-idf\")\n",
    "finalTrainingDF = Pipeline(stages=[tokenizer,remover,cv,idf]).fit(cleanReviews).transform(cleanReviews)\n",
    "trainingDF = finalTrainingDF.select(\"feedback\",\"tf-idf\")"
   ]
  },
  {
   "cell_type": "markdown",
   "metadata": {},
   "source": [
    "## Logistic Regression "
   ]
  },
  {
   "cell_type": "code",
   "execution_count": 135,
   "metadata": {},
   "outputs": [],
   "source": [
    "logistic = PipelineModel.load(\"Logistic_10000\")"
   ]
  },
  {
   "cell_type": "code",
   "execution_count": 136,
   "metadata": {},
   "outputs": [
    {
     "name": "stdout",
     "output_type": "stream",
     "text": [
      "Area under ROC = 0.5968092566619916\n"
     ]
    }
   ],
   "source": [
    "predictions = logistic.transform(trainingDF)\n",
    "predictionAndLabels = predictions.select(\"feedback\",\"prediction\").rdd\n",
    "metrics = BinaryClassificationMetrics(predictionAndLabels)\n",
    "print(\"Area under ROC = %s\" % metrics.areaUnderROC)"
   ]
  },
  {
   "cell_type": "code",
   "execution_count": 75,
   "metadata": {},
   "outputs": [],
   "source": [
    "from pyspark.mllib.evaluation import BinaryClassificationMetrics\n",
    "\n",
    "# Scala version implements .roc() and .pr()\n",
    "# Python: https://spark.apache.org/docs/latest/api/python/_modules/pyspark/mllib/common.html\n",
    "# Scala: https://spark.apache.org/docs/latest/api/java/org/apache/spark/mllib/evaluation/BinaryClassificationMetrics.html\n",
    "class CurveMetrics(BinaryClassificationMetrics):\n",
    "    def __init__(self, *args):\n",
    "        super(CurveMetrics, self).__init__(*args)\n",
    "\n",
    "    def _to_list(self, rdd):\n",
    "        points = []\n",
    "        # Note this collect could be inefficient for large datasets \n",
    "        # considering there may be one probability per datapoint (at most)\n",
    "        # The Scala version takes a numBins parameter, \n",
    "        # but it doesn't seem possible to pass this from Python to Java\n",
    "        for row in rdd.collect():\n",
    "            # Results are returned as type scala.Tuple2, \n",
    "            # which doesn't appear to have a py4j mapping\n",
    "            points += [(float(row._1()), float(row._2()))]\n",
    "        return points\n",
    "\n",
    "    def get_curve(self, method):\n",
    "        rdd = getattr(self._java_model, method)().toJavaRDD()\n",
    "        return self._to_list(rdd)"
   ]
  },
  {
   "cell_type": "code",
   "execution_count": 78,
   "metadata": {},
   "outputs": [
    {
     "data": {
      "image/png": "[encoded data removed]",
      "text/plain": [
       "<Figure size 432x288 with 1 Axes>"
      ]
     },
     "metadata": {
      "needs_background": "light"
     },
     "output_type": "display_data"
    }
   ],
   "source": [
    "preds = predictions.select('feedback','probability').rdd.map(lambda row: (float(row['probability'][1]), float(row['feedback'])))\n",
    "points = CurveMetrics(preds).get_curve('roc')\n",
    "\n",
    "x_val = [x[0] for x in points]\n",
    "y_val = [x[1] for x in points]\n",
    "plt.xlabel('False Positive Rate')\n",
    "plt.ylabel('True Positive Rate')\n",
    "plt.plot([0, 1], [0, 1], 'r--')\n",
    "plt.plot(x_val, y_val)\n",
    "plt.show()"
   ]
  },
  {
   "cell_type": "markdown",
   "metadata": {},
   "source": [
    "## Decsion Trees (200 Tokens)"
   ]
  },
  {
   "cell_type": "code",
   "execution_count": null,
   "metadata": {},
   "outputs": [],
   "source": [
    "### Loading the model"
   ]
  },
  {
   "cell_type": "code",
   "execution_count": 138,
   "metadata": {},
   "outputs": [
    {
     "name": "stdout",
     "output_type": "stream",
     "text": [
      "Area under ROC = 0.6884533496660542\n"
     ]
    }
   ],
   "source": [
    "dt = PipelineModel.load(\"Decsion_tree_10000\")\n",
    "\n",
    "predictions = dt.transform(trainingDF)\n",
    "predictionAndLabels = predictions.select(\"feedback\",\"prediction\").rdd\n",
    "metrics = BinaryClassificationMetrics(predictionAndLabels)\n",
    "print(\"Area under ROC = %s\" % metrics.areaUnderROC)"
   ]
  },
  {
   "cell_type": "code",
   "execution_count": 81,
   "metadata": {},
   "outputs": [
    {
     "data": {
      "image/png": "[encoded data removed]",
      "text/plain": [
       "<Figure size 432x288 with 1 Axes>"
      ]
     },
     "metadata": {
      "needs_background": "light"
     },
     "output_type": "display_data"
    }
   ],
   "source": [
    "preds = predictions.select('feedback','probability').rdd.map(lambda row: (float(row['probability'][1]), float(row['feedback'])))\n",
    "points = CurveMetrics(preds).get_curve('roc')\n",
    "\n",
    "x_val = [x[0] for x in points]\n",
    "y_val = [x[1] for x in points]\n",
    "plt.xlabel('False Positive Rate')\n",
    "plt.ylabel('True Positive Rate')\n",
    "plt.plot([0, 1], [0, 1], 'r--')\n",
    "plt.plot(x_val, y_val)\n",
    "plt.show()"
   ]
  },
  {
   "cell_type": "markdown",
   "metadata": {},
   "source": [
    "## Random forest classifier (200 Tokens)"
   ]
  },
  {
   "cell_type": "code",
   "execution_count": 125,
   "metadata": {},
   "outputs": [
    {
     "name": "stdout",
     "output_type": "stream",
     "text": [
      "Area under ROC = 0.6846701729190522\n"
     ]
    }
   ],
   "source": [
    "rf = PipelineModel.load(\"random_forest_classifier_4000\")\n",
    "\n",
    "predictions = rf.transform(trainingDF)\n",
    "predictionAndLabels = predictions.select(\"feedback\",\"prediction\").rdd\n",
    "metrics = BinaryClassificationMetrics(predictionAndLabels)\n",
    "print(\"Area under ROC = %s\" % metrics.areaUnderROC)"
   ]
  },
  {
   "cell_type": "code",
   "execution_count": 86,
   "metadata": {},
   "outputs": [
    {
     "data": {
      "image/png": "[encoded data removed]",
      "text/plain": [
       "<Figure size 432x288 with 1 Axes>"
      ]
     },
     "metadata": {
      "needs_background": "light"
     },
     "output_type": "display_data"
    }
   ],
   "source": [
    "preds = predictions.select('feedback','probability').rdd.map(lambda row: (float(row['probability'][1]), float(row['feedback'])))\n",
    "points = CurveMetrics(preds).get_curve('roc')\n",
    "\n",
    "x_val = [x[0] for x in points]\n",
    "y_val = [x[1] for x in points]\n",
    "plt.xlabel('False Positive Rate')\n",
    "plt.ylabel('True Positive Rate')\n",
    "plt.plot([0, 1], [0, 1], 'r--')\n",
    "plt.plot(x_val, y_val)\n",
    "plt.show()"
   ]
  },
  {
   "cell_type": "markdown",
   "metadata": {},
   "source": [
    "## Gradient-boosted tree classifier \n"
   ]
  },
  {
   "cell_type": "code",
   "execution_count": 139,
   "metadata": {},
   "outputs": [
    {
     "name": "stdout",
     "output_type": "stream",
     "text": [
      "Area under ROC = 0.6884533496660542\n"
     ]
    }
   ],
   "source": [
    "gbt = PipelineModel.load(\"Gradient_boosted_tree_10000\")\n",
    "\n",
    "predictions = gbt.transform(trainingDF)\n",
    "predictionAndLabels = predictions.select(\"feedback\",\"prediction\").rdd\n",
    "metrics = BinaryClassificationMetrics(predictionAndLabels)\n",
    "print(\"Area under ROC = %s\" % metrics.areaUnderROC)"
   ]
  },
  {
   "cell_type": "code",
   "execution_count": 88,
   "metadata": {},
   "outputs": [
    {
     "data": {
      "image/png": "[encoded data removed]",
      "text/plain": [
       "<Figure size 432x288 with 1 Axes>"
      ]
     },
     "metadata": {
      "needs_background": "light"
     },
     "output_type": "display_data"
    }
   ],
   "source": [
    "preds = predictions.select('feedback','probability').rdd.map(lambda row: (float(row['probability'][1]), float(row['feedback'])))\n",
    "points = CurveMetrics(preds).get_curve('roc')\n",
    "\n",
    "x_val = [x[0] for x in points]\n",
    "y_val = [x[1] for x in points]\n",
    "plt.xlabel('False Positive Rate')\n",
    "plt.ylabel('True Positive Rate')\n",
    "plt.plot([0, 1], [0, 1], 'r--')\n",
    "plt.plot(x_val, y_val)\n",
    "plt.show()"
   ]
  },
  {
   "cell_type": "markdown",
   "metadata": {},
   "source": [
    "## Linear Support Vector Machine (200 tokens)"
   ]
  },
  {
   "cell_type": "code",
   "execution_count": 140,
   "metadata": {},
   "outputs": [
    {
     "name": "stdout",
     "output_type": "stream",
     "text": [
      "Area under ROC = 0.5347724925081149\n"
     ]
    }
   ],
   "source": [
    "lsvm = PipelineModel.load(\"Linear_Support_Vector_Machine_10000\")\n",
    "\n",
    "predictions = lsvm.transform(trainingDF)\n",
    "predictionAndLabels = predictions.select(\"feedback\",\"prediction\").rdd\n",
    "metrics = BinaryClassificationMetrics(predictionAndLabels)\n",
    "print(\"Area under ROC = %s\" % metrics.areaUnderROC)"
   ]
  },
  {
   "cell_type": "markdown",
   "metadata": {},
   "source": [
    "## Naive Bayes"
   ]
  },
  {
   "cell_type": "code",
   "execution_count": 142,
   "metadata": {},
   "outputs": [
    {
     "name": "stdout",
     "output_type": "stream",
     "text": [
      "Area under ROC = 0.5541062292494421\n"
     ]
    }
   ],
   "source": [
    "nb = PipelineModel.load(\"Naive_Bayes_10000\")\n",
    "\n",
    "predictions = nb.transform(trainingDF)\n",
    "predictionAndLabels = predictions.select(\"feedback\",\"prediction\").rdd\n",
    "metrics = BinaryClassificationMetrics(predictionAndLabels)\n",
    "print(\"Area under ROC = %s\" % metrics.areaUnderROC)"
   ]
  },
  {
   "cell_type": "code",
   "execution_count": null,
   "metadata": {},
   "outputs": [],
   "source": []
  }
 ],
 "metadata": {
  "kernelspec": {
   "display_name": "Python 3",
   "language": "python",
   "name": "python3"
  },
  "language_info": {
   "codemirror_mode": {
    "name": "ipython",
    "version": 3
   },
   "file_extension": ".py",
   "mimetype": "text/x-python",
   "name": "python",
   "nbconvert_exporter": "python",
   "pygments_lexer": "ipython3",
   "version": "3.7.4"
  }
 },
 "nbformat": 4,
 "nbformat_minor": 2
}
