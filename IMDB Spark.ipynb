{
 "cells": [
  {
   "cell_type": "code",
   "execution_count": 1,
   "metadata": {},
   "outputs": [],
   "source": [
    "import matplotlib.pyplot as plt\n",
    "from pyspark.sql.functions import *\n",
    "from pyspark.ml import Pipeline, PipelineModel\n",
    "from pyspark.ml.classification import GBTClassifier, RandomForestClassifier\n",
    "from pyspark.ml.classification import MultilayerPerceptronClassifier\n",
    "from pyspark.ml.classification import LinearSVC\n",
    "from pyspark.ml.classification import NaiveBayes\n",
    "from pyspark.mllib.feature import Word2Vec\n",
    "from pyspark.mllib.evaluation import BinaryClassificationMetrics\n",
    "from pyspark.mllib.evaluation import MulticlassMetrics\n",
    "from pyspark.mllib.util import MLUtils\n",
    "\n",
    "from pyspark.ml.feature import Tokenizer, RegexTokenizer, CountVectorizer\n",
    "from pyspark.ml.feature import StopWordsRemover, HashingTF, IDF\n",
    "from pyspark.ml.feature import OneHotEncoder, StringIndexer, VectorIndexer\n",
    "from pyspark.ml.classification import LogisticRegression,LogisticRegressionModel\n",
    "from pyspark.ml.classification import DecisionTreeClassifier\n",
    "from pyspark.mllib.evaluation import BinaryClassificationMetrics\n",
    "from pyspark.ml.evaluation import BinaryClassificationEvaluator\n",
    "from pyspark.ml import PipelineModel"
   ]
  },
  {
   "cell_type": "markdown",
   "metadata": {},
   "source": [
    "# Reading Data\n",
    "The first challenge is to read in the training dataset, which is composed of 25,000 positive and negative movie reviews. The following lines of code will read in these files and then create our binary labels of 0 for a negative review and 1 for a positive review."
   ]
  },
  {
   "cell_type": "code",
   "execution_count": 2,
   "metadata": {},
   "outputs": [],
   "source": [
    "# import training data\n",
    "negativeReviewsTraining = sqlContext.read.text(\"aclImdb/train/neg/*.txt\").toDF(\"reviewText\")\n",
    "positiveReviewsTraining = sqlContext.read.text(\"aclImdb/train/pos/*.txt\").toDF(\"reviewText\")\n",
    "\n",
    "# import test data\n",
    "negativeReviewsTest = sqlContext.read.text(\"aclImdb/test/neg/*.txt\").toDF(\"reviewText\")\n",
    "positiveReviewsTest = sqlContext.read.text(\"aclImdb/test/pos/*.txt\").toDF(\"reviewText\")"
   ]
  },
  {
   "cell_type": "code",
   "execution_count": 3,
   "metadata": {},
   "outputs": [],
   "source": [
    "# we label create labels for our training set\n",
    "posTraining = positiveReviewsTraining.withColumn(\"label\", lit(1.0))\n",
    "negTraining = negativeReviewsTraining.withColumn(\"label\", lit(0.0))\n",
    "\n",
    "# we label create labels for our test set\n",
    "posTesting = positiveReviewsTest.withColumn(\"label\", lit(1.0))\n",
    "negTesting = negativeReviewsTest.withColumn(\"label\", lit(0.0))"
   ]
  },
  {
   "cell_type": "code",
   "execution_count": 4,
   "metadata": {},
   "outputs": [],
   "source": [
    "# we merge the postive and negative reviews \n",
    "movieReviewsTraining = posTraining.union(negTraining).withColumn(\"row_id\",monotonically_increasing_id())\n",
    "movieReviewsTest = posTesting.union(negTesting).withColumn(\"row_id\",monotonically_increasing_id())"
   ]
  },
  {
   "cell_type": "code",
   "execution_count": 5,
   "metadata": {
    "scrolled": true
   },
   "outputs": [
    {
     "name": "stdout",
     "output_type": "stream",
     "text": [
      "(25000, 3)\n"
     ]
    }
   ],
   "source": [
    "print((movieReviewsTest.count(), len(movieReviewsTest.columns)))"
   ]
  },
  {
   "cell_type": "markdown",
   "metadata": {},
   "source": [
    "# Data Cleaning\n",
    "We regularize tokens to a common representation\n",
    "1. The code below will lowercase all words \n",
    "2. Remove punctuation symbols with a regular expression function\n",
    "3. Remove stopwords. These are essentially injunctions and conjunctions such as in, at, the, and, etc, and so on, that add no contextual meaning to the review that we want to classify"
   ]
  },
  {
   "cell_type": "code",
   "execution_count": 6,
   "metadata": {
    "scrolled": true
   },
   "outputs": [],
   "source": [
    "# cleaning training DataFrame\n",
    "cleanTrainingDF = movieReviewsTraining.select('row_id','label', (lower(regexp_replace('reviewText', \"[^a-zA-Z\\\\s]\", \"\"))).alias('reviewText'))\n",
    "cleanTrainingDF = cleanTrainingDF.select('row_id','label', (regexp_replace(col(\"reviewText\"), \"  \", \" \")).alias('reviewText'))\n",
    "\n",
    "# cleaning testing DataFrame\n",
    "cleanTestDF = movieReviewsTest.select('row_id','label', (lower(regexp_replace('reviewText', \"[^a-zA-Z\\\\s]\", \"\"))).alias('reviewText'))\n",
    "cleanTestDF = cleanTestDF.select('row_id','label', (regexp_replace(col(\"reviewText\"), \"  \", \" \")).alias('reviewText'))"
   ]
  },
  {
   "cell_type": "code",
   "execution_count": 7,
   "metadata": {
    "scrolled": true
   },
   "outputs": [
    {
     "name": "stdout",
     "output_type": "stream",
     "text": [
      "+-------------+-----+--------------------+\n",
      "|       row_id|label|          reviewText|\n",
      "+-------------+-----+--------------------+\n",
      "|5291399708701|  0.0| is a film based ...|\n",
      "| 644245094405|  1.0|while i have a gr...|\n",
      "|3298534883342|  1.0|what can i say an...|\n",
      "| 214748364812|  1.0|the first mystery...|\n",
      "|5626407157773|  0.0|i didnt expect mu...|\n",
      "|2388001816591|  1.0|this movie was ex...|\n",
      "|3779571220489|  0.0|nell shipman must...|\n",
      "|5549097746451|  0.0|sondra locke stin...|\n",
      "|5832565587972|  0.0|now i wont deny t...|\n",
      "|5463198400522|  0.0|supposedly a soci...|\n",
      "|3590592659470|  0.0|thats certainly a...|\n",
      "|  34359738369|  1.0|neatly skipping o...|\n",
      "|2740189134868|  1.0|if the screenwrit...|\n",
      "|6597069766676|  0.0|very disappointin...|\n",
      "|3143916060679|  1.0|this is one the f...|\n",
      "|1898375544863|  1.0|why do people bit...|\n",
      "|2327872274445|  1.0|beside the fact t...|\n",
      "|4629974745089|  0.0|ive never been im...|\n",
      "| 111669149714|  1.0|its a funny busin...|\n",
      "| 541165879325|  1.0|theres a theory o...|\n",
      "+-------------+-----+--------------------+\n",
      "only showing top 20 rows\n",
      "\n"
     ]
    }
   ],
   "source": [
    "cleanTrainingDF.orderBy(rand()).limit(25).show()"
   ]
  },
  {
   "cell_type": "code",
   "execution_count": 8,
   "metadata": {},
   "outputs": [
    {
     "name": "stdout",
     "output_type": "stream",
     "text": [
      "+-------------+-----+--------------------+\n",
      "|       row_id|label|          reviewText|\n",
      "+-------------+-----+--------------------+\n",
      "| 412316860444|  1.0|this is a fun mov...|\n",
      "|6004364279808|  0.0|committed stars h...|\n",
      "|4767413698577|  0.0|to paraphrase the...|\n",
      "| 910533066759|  1.0|will smith is smo...|\n",
      "| 335007449094|  1.0|i actually found ...|\n",
      "|4552665333768|  0.0|years ago i caugh...|\n",
      "|3401614098432|  0.0|special sneak pre...|\n",
      "|2551210573839|  1.0|this was another ...|\n",
      "|5205500362780|  0.0|this has got to b...|\n",
      "|1915555414017|  1.0|lets face itbr br...|\n",
      "|5523327942666|  0.0|thats how i was w...|\n",
      "|2680059592714|  1.0|i saw this movie ...|\n",
      "|3298534883347|  1.0|after watching th...|\n",
      "|2439541424141|  1.0|this film stands ...|\n",
      "|2937757630477|  1.0|the kid is a real...|\n",
      "|1005022347295|  1.0|i stumbled upon t...|\n",
      "|6116033429516|  0.0|br br ive seen th...|\n",
      "|1219770712084|  1.0|ok i havent read ...|\n",
      "|3444563771403|  0.0|following the whi...|\n",
      "|3848290697240|  0.0|if this is whats ...|\n",
      "+-------------+-----+--------------------+\n",
      "only showing top 20 rows\n",
      "\n"
     ]
    }
   ],
   "source": [
    "cleanTestDF.orderBy(rand()).limit(25).show()"
   ]
  },
  {
   "cell_type": "markdown",
   "metadata": {},
   "source": [
    "# Configure an ML Pipeline\n",
    "Now we will transform string representation into a numeric one. We will now use Spark ML to apply a very algorithm called TF-IDF to convert our tokenized reviews into vectors, which will be inputs to our machine learning models. \n",
    "\n",
    "We will re-run the code below for numFeatures = 100, 200, 2000, 4000, 10000.\n",
    "\n",
    "We can generate vectors with different lengths by changing the 'numFeatures' parameter."
   ]
  },
  {
   "cell_type": "code",
   "execution_count": 94,
   "metadata": {},
   "outputs": [],
   "source": [
    "# pipeline for transforming training DataFrame\n",
    "tokenizer = Tokenizer(inputCol=\"reviewText\", outputCol=\"words\")\n",
    "remover = StopWordsRemover(inputCol=tokenizer.getOutputCol(),outputCol=\"filtered\")\n",
    "cv = HashingTF(inputCol=remover.getOutputCol(), outputCol=\"rawFeatures\", numFeatures=10000)\n",
    "idf = IDF(inputCol= cv.getOutputCol(), outputCol=\"tf-idf\")\n",
    "finalTrainingDF = Pipeline(stages=[tokenizer,remover,cv,idf]).fit(cleanTrainingDF).transform(cleanTrainingDF)\n",
    "trainingDF = finalTrainingDF.select(\"row_id\",\"label\",\"tf-idf\")"
   ]
  },
  {
   "cell_type": "code",
   "execution_count": 95,
   "metadata": {
    "scrolled": true
   },
   "outputs": [
    {
     "name": "stdout",
     "output_type": "stream",
     "text": [
      "+------+-----+--------------------+\n",
      "|row_id|label|              tf-idf|\n",
      "+------+-----+--------------------+\n",
      "|     0|  1.0|(10000,[1,40,50,5...|\n",
      "|     1|  1.0|(10000,[15,25,44,...|\n",
      "+------+-----+--------------------+\n",
      "only showing top 2 rows\n",
      "\n"
     ]
    }
   ],
   "source": [
    "trainingDF.show(2)"
   ]
  },
  {
   "cell_type": "code",
   "execution_count": 96,
   "metadata": {},
   "outputs": [],
   "source": [
    "# pipeline for transforming test Dataframe\n",
    "tokenizer = Tokenizer(inputCol=\"reviewText\", outputCol=\"words\")\n",
    "remover = StopWordsRemover(inputCol=tokenizer.getOutputCol(),outputCol=\"filtered\")\n",
    "cv = HashingTF(inputCol=remover.getOutputCol(), outputCol=\"rawFeatures\", numFeatures=10000)\n",
    "idf = IDF(inputCol= cv.getOutputCol(), outputCol=\"tf-idf\")\n",
    "finalTestDF = Pipeline(stages=[tokenizer,remover,cv,idf]).fit(cleanTestDF).transform(cleanTestDF)\n",
    "testDF = finalTestDF.select(\"row_id\",\"label\",\"tf-idf\")"
   ]
  },
  {
   "cell_type": "code",
   "execution_count": 97,
   "metadata": {},
   "outputs": [
    {
     "name": "stdout",
     "output_type": "stream",
     "text": [
      "+------+-----+--------------------+\n",
      "|row_id|label|              tf-idf|\n",
      "+------+-----+--------------------+\n",
      "|     0|  1.0|(10000,[1,7,15,56...|\n",
      "|     1|  1.0|(10000,[12,13,14,...|\n",
      "+------+-----+--------------------+\n",
      "only showing top 2 rows\n",
      "\n"
     ]
    }
   ],
   "source": [
    "testDF.show(2)"
   ]
  },
  {
   "cell_type": "markdown",
   "metadata": {},
   "source": [
    "# Logistic Regression"
   ]
  },
  {
   "cell_type": "code",
   "execution_count": 98,
   "metadata": {},
   "outputs": [],
   "source": [
    "## Create a new LR object for the model\n",
    "logReg = LogisticRegression( regParam=0.1,threshold=0.5,labelCol = 'label',featuresCol='tf-idf')\n",
    "## Undertake training and create an LR model\n",
    "lrModel = Pipeline(stages=[logReg]).fit(trainingDF)"
   ]
  },
  {
   "cell_type": "code",
   "execution_count": 99,
   "metadata": {},
   "outputs": [
    {
     "name": "stdout",
     "output_type": "stream",
     "text": [
      "Area under ROC = 0.8479450208656284\n"
     ]
    }
   ],
   "source": [
    "predictions = lrModel.transform(testDF)\n",
    "predictionAndLabels = predictions.select(\"label\",\"prediction\").rdd\n",
    "metrics = BinaryClassificationMetrics(predictionAndLabels)\n",
    "print(\"Area under ROC = %s\" % metrics.areaUnderROC)"
   ]
  },
  {
   "cell_type": "code",
   "execution_count": 100,
   "metadata": {},
   "outputs": [
    {
     "data": {
      "image/png": "[encoded data removed]",
      "text/plain": [
       "<Figure size 432x288 with 1 Axes>"
      ]
     },
     "metadata": {
      "needs_background": "light"
     },
     "output_type": "display_data"
    }
   ],
   "source": [
    "modelSummary = lrModel.stages[-1].summary\n",
    "\n",
    "plt.plot([0, 1], [0, 1], 'r--')\n",
    "plt.plot(modelSummary.roc.select('FPR').collect(),\n",
    "         modelSummary.roc.select('TPR').collect())\n",
    "plt.xlabel('False Positive Rate')\n",
    "plt.ylabel('True Positive Rate')\n",
    "plt.show()"
   ]
  },
  {
   "cell_type": "code",
   "execution_count": 101,
   "metadata": {},
   "outputs": [
    {
     "data": {
      "text/plain": [
       "<pyspark.ml.classification.BinaryLogisticRegressionTrainingSummary at 0x7fd9ef897bd0>"
      ]
     },
     "execution_count": 101,
     "metadata": {},
     "output_type": "execute_result"
    }
   ],
   "source": [
    "lrModel.stages[-1].summary"
   ]
  },
  {
   "cell_type": "markdown",
   "metadata": {},
   "source": [
    "# Decision Trees"
   ]
  },
  {
   "cell_type": "code",
   "execution_count": 102,
   "metadata": {},
   "outputs": [],
   "source": [
    "# hyperparameters: maxDepth, maxBins, minInfoGain, minInstancePerNode\n",
    "dt = DecisionTreeClassifier(labelCol = 'label',featuresCol='tf-idf')\n",
    "dtModel = Pipeline(stages=[dt]).fit(trainingDF)"
   ]
  },
  {
   "cell_type": "code",
   "execution_count": 103,
   "metadata": {},
   "outputs": [
    {
     "name": "stdout",
     "output_type": "stream",
     "text": [
      "Area under ROC = 0.7270571151279948\n"
     ]
    }
   ],
   "source": [
    "predictions = dtModel.transform(testDF)\n",
    "predictionAndLabels = predictions.select(\"label\",\"prediction\").rdd\n",
    "metrics = BinaryClassificationMetrics(predictionAndLabels)\n",
    "print(\"Area under ROC = %s\" % metrics.areaUnderROC)"
   ]
  },
  {
   "cell_type": "code",
   "execution_count": 104,
   "metadata": {},
   "outputs": [],
   "source": [
    "from pyspark.mllib.evaluation import BinaryClassificationMetrics\n",
    "\n",
    "# Scala version implements .roc() and .pr()\n",
    "# Python: https://spark.apache.org/docs/latest/api/python/_modules/pyspark/mllib/common.html\n",
    "# Scala: https://spark.apache.org/docs/latest/api/java/org/apache/spark/mllib/evaluation/BinaryClassificationMetrics.html\n",
    "class CurveMetrics(BinaryClassificationMetrics):\n",
    "    def __init__(self, *args):\n",
    "        super(CurveMetrics, self).__init__(*args)\n",
    "\n",
    "    def _to_list(self, rdd):\n",
    "        points = []\n",
    "        # Note this collect could be inefficient for large datasets \n",
    "        # considering there may be one probability per datapoint (at most)\n",
    "        # The Scala version takes a numBins parameter, \n",
    "        # but it doesn't seem possible to pass this from Python to Java\n",
    "        for row in rdd.collect():\n",
    "            # Results are returned as type scala.Tuple2, \n",
    "            # which doesn't appear to have a py4j mapping\n",
    "            points += [(float(row._1()), float(row._2()))]\n",
    "        return points\n",
    "\n",
    "    def get_curve(self, method):\n",
    "        rdd = getattr(self._java_model, method)().toJavaRDD()\n",
    "        return self._to_list(rdd)"
   ]
  },
  {
   "cell_type": "code",
   "execution_count": 105,
   "metadata": {},
   "outputs": [
    {
     "data": {
      "image/png": "[encoded data removed]",
      "text/plain": [
       "<Figure size 432x288 with 1 Axes>"
      ]
     },
     "metadata": {
      "needs_background": "light"
     },
     "output_type": "display_data"
    }
   ],
   "source": [
    "preds = predictions.select('label','probability').rdd.map(lambda row: (float(row['probability'][1]), float(row['label'])))\n",
    "points = CurveMetrics(preds).get_curve('roc')\n",
    "\n",
    "x_val = [x[0] for x in points]\n",
    "y_val = [x[1] for x in points]\n",
    "plt.xlabel('False Positive Rate')\n",
    "plt.ylabel('True Positive Rate')\n",
    "plt.plot([0, 1], [0, 1], 'r--')\n",
    "plt.plot(x_val, y_val)\n",
    "plt.show()"
   ]
  },
  {
   "cell_type": "markdown",
   "metadata": {},
   "source": [
    "# Random forest classifier"
   ]
  },
  {
   "cell_type": "code",
   "execution_count": 106,
   "metadata": {},
   "outputs": [],
   "source": [
    "from pyspark.ml.classification import GBTClassifier"
   ]
  },
  {
   "cell_type": "code",
   "execution_count": 107,
   "metadata": {},
   "outputs": [],
   "source": [
    "rf = RandomForestClassifier(labelCol=\"label\", featuresCol=\"tf-idf\",\n",
    "                            numTrees=100, maxDepth = 8, maxBins = 2)\n",
    "\n",
    "rfModel = Pipeline(stages=[rf]).fit(trainingDF)\n"
   ]
  },
  {
   "cell_type": "code",
   "execution_count": 108,
   "metadata": {
    "scrolled": true
   },
   "outputs": [
    {
     "name": "stdout",
     "output_type": "stream",
     "text": [
      "Area under ROC = 0.8108617825661187\n"
     ]
    }
   ],
   "source": [
    "predictions = rfModel.transform(testDF)\n",
    "predictionAndLabels = predictions.select(\"label\",\"prediction\").rdd\n",
    "metrics = BinaryClassificationMetrics(predictionAndLabels)\n",
    "print(\"Area under ROC = %s\" % metrics.areaUnderROC)"
   ]
  },
  {
   "cell_type": "code",
   "execution_count": 109,
   "metadata": {},
   "outputs": [
    {
     "data": {
      "image/png": "[encoded data removed]",
      "text/plain": [
       "<Figure size 432x288 with 1 Axes>"
      ]
     },
     "metadata": {
      "needs_background": "light"
     },
     "output_type": "display_data"
    }
   ],
   "source": [
    "preds = predictions.select('label','probability').rdd.map(lambda row: (float(row['probability'][1]), float(row['label'])))\n",
    "points = CurveMetrics(preds).get_curve('roc')\n",
    "\n",
    "x_val = [x[0] for x in points]\n",
    "y_val = [x[1] for x in points]\n",
    "plt.xlabel('False Positive Rate')\n",
    "plt.ylabel('True Positive Rate')\n",
    "plt.plot([0, 1], [0, 1], 'r--')\n",
    "plt.plot(x_val, y_val)\n",
    "plt.show()"
   ]
  },
  {
   "cell_type": "markdown",
   "metadata": {},
   "source": [
    "# Gradient-boosted tree classifier\n"
   ]
  },
  {
   "cell_type": "code",
   "execution_count": 110,
   "metadata": {},
   "outputs": [],
   "source": [
    "gbt = GBTClassifier(labelCol=\"label\", featuresCol=\"tf-idf\", maxIter=10, stepSize=0.01)\n",
    "\n",
    "gbtModel = Pipeline(stages=[gbt]).fit(trainingDF)"
   ]
  },
  {
   "cell_type": "code",
   "execution_count": 111,
   "metadata": {},
   "outputs": [
    {
     "name": "stdout",
     "output_type": "stream",
     "text": [
      "Area under ROC = 0.7274115344350244\n"
     ]
    }
   ],
   "source": [
    "predictions = gbtModel.transform(testDF)\n",
    "predictionAndLabels = predictions.select(\"label\",\"prediction\").rdd\n",
    "metrics = BinaryClassificationMetrics(predictionAndLabels)\n",
    "print(\"Area under ROC = %s\" % metrics.areaUnderROC)"
   ]
  },
  {
   "cell_type": "code",
   "execution_count": 112,
   "metadata": {},
   "outputs": [
    {
     "data": {
      "image/png": "[encoded data removed]",
      "text/plain": [
       "<Figure size 432x288 with 1 Axes>"
      ]
     },
     "metadata": {
      "needs_background": "light"
     },
     "output_type": "display_data"
    }
   ],
   "source": [
    "preds = predictions.select('label','probability').rdd.map(lambda row: (float(row['probability'][1]), float(row['label'])))\n",
    "points = CurveMetrics(preds).get_curve('roc')\n",
    "\n",
    "x_val = [x[0] for x in points]\n",
    "y_val = [x[1] for x in points]\n",
    "plt.xlabel('False Positive Rate')\n",
    "plt.ylabel('True Positive Rate')\n",
    "plt.plot([0, 1], [0, 1], 'r--')\n",
    "plt.plot(x_val, y_val)\n",
    "plt.show()"
   ]
  },
  {
   "cell_type": "markdown",
   "metadata": {},
   "source": [
    "# Linear Support Vector Machine"
   ]
  },
  {
   "cell_type": "code",
   "execution_count": 113,
   "metadata": {},
   "outputs": [],
   "source": [
    "lsvc = LinearSVC(labelCol=\"label\", featuresCol=\"tf-idf\",maxIter=10, regParam=0.1)\n",
    "lsvcModel = Pipeline(stages=[lsvc]).fit(trainingDF)"
   ]
  },
  {
   "cell_type": "code",
   "execution_count": 114,
   "metadata": {},
   "outputs": [
    {
     "name": "stdout",
     "output_type": "stream",
     "text": [
      "Area under ROC = 0.8549983966265791\n"
     ]
    }
   ],
   "source": [
    "predictions = lsvcModel.transform(testDF)\n",
    "predictionAndLabels = predictions.select(\"label\",\"prediction\").rdd\n",
    "metrics = BinaryClassificationMetrics(predictionAndLabels)\n",
    "print(\"Area under ROC = %s\" % metrics.areaUnderROC)"
   ]
  },
  {
   "cell_type": "markdown",
   "metadata": {},
   "source": [
    "# Naive Bayes"
   ]
  },
  {
   "cell_type": "code",
   "execution_count": 115,
   "metadata": {},
   "outputs": [],
   "source": [
    "nb = NaiveBayes(labelCol=\"label\", featuresCol=\"tf-idf\",smoothing=1.0, modelType=\"multinomial\")\n",
    "nbModel = Pipeline(stages=[nb]).fit(trainingDF)"
   ]
  },
  {
   "cell_type": "code",
   "execution_count": 116,
   "metadata": {
    "scrolled": true
   },
   "outputs": [
    {
     "name": "stdout",
     "output_type": "stream",
     "text": [
      "Area under ROC = 0.8073746940715856\n"
     ]
    }
   ],
   "source": [
    "predictions = nbModel.transform(testDF)\n",
    "predictionAndLabels = predictions.select(\"label\",\"prediction\").rdd\n",
    "metrics = BinaryClassificationMetrics(predictionAndLabels)\n",
    "print(\"Area under ROC = %s\" % metrics.areaUnderROC)"
   ]
  },
  {
   "cell_type": "code",
   "execution_count": 117,
   "metadata": {},
   "outputs": [],
   "source": [
    "# Saving Models\n",
    "\n",
    "lrModel.save('Logistic_10000')\n",
    "dtModel.save('Decsion_tree_10000')\n",
    "rfModel.save('Random_forest_classifier_10000')\n",
    "gbtModel.save(\"Gradient_boosted_tree_10000\")\n",
    "lsvcModel.save(\"Linear_Support_Vector_Machine_10000\")\n",
    "nbModel.save(\"Naive_Bayes_10000\")\n"
   ]
  },
  {
   "cell_type": "markdown",
   "metadata": {},
   "source": [
    "# Additional Metrics"
   ]
  },
  {
   "cell_type": "code",
   "execution_count": 87,
   "metadata": {},
   "outputs": [],
   "source": [
    "predictionRDD = predictions.select(['label', 'prediction']) \\\n",
    "                            .rdd.map(lambda line: (line[1], line[0]))"
   ]
  },
  {
   "cell_type": "code",
   "execution_count": null,
   "metadata": {
    "scrolled": true
   },
   "outputs": [],
   "source": [
    "metrics = MulticlassMetrics(predictionRDD)\n",
    "precision = metrics.precision()\n",
    "recall = metrics.recall()\n",
    "f1Score = metrics.fMeasure()"
   ]
  },
  {
   "cell_type": "code",
   "execution_count": null,
   "metadata": {},
   "outputs": [],
   "source": [
    "metrics = MulticlassMetrics(predictionRDD)\n"
   ]
  },
  {
   "cell_type": "code",
   "execution_count": null,
   "metadata": {},
   "outputs": [],
   "source": [
    "labels = [0.0, 1.0]\n",
    "for label in sorted(labels):\n",
    "    print(metrics.precision(label))\n",
    "    print(metrics.recall(label))"
   ]
  },
  {
   "cell_type": "code",
   "execution_count": null,
   "metadata": {},
   "outputs": [],
   "source": [
    "f1Score"
   ]
  },
  {
   "cell_type": "code",
   "execution_count": null,
   "metadata": {},
   "outputs": [],
   "source": [
    "print(\"Summary Stats\")\n",
    "print(\"Precision = %s\" % precision)\n",
    "print(\"Recall = %s\" % recall)\n",
    "print(\"F1 Score = %s\" % f1Score)"
   ]
  },
  {
   "cell_type": "code",
   "execution_count": null,
   "metadata": {},
   "outputs": [],
   "source": [
    "print(\"Area under ROC = %s\" % metrics.areaUnderPR)"
   ]
  },
  {
   "cell_type": "code",
   "execution_count": null,
   "metadata": {},
   "outputs": [],
   "source": [
    "metrics.Precision"
   ]
  },
  {
   "cell_type": "code",
   "execution_count": null,
   "metadata": {},
   "outputs": [],
   "source": [
    "preds = predictions.select('label','probability').rdd.map(lambda row: (float(row['probability'][1]), float(row['label'])))\n",
    "points = CurveMetrics(preds).get_curve('roc')"
   ]
  }
 ],
 "metadata": {
  "kernelspec": {
   "display_name": "Python 3",
   "language": "python",
   "name": "python3"
  },
  "language_info": {
   "codemirror_mode": {
    "name": "ipython",
    "version": 3
   },
   "file_extension": ".py",
   "mimetype": "text/x-python",
   "name": "python",
   "nbconvert_exporter": "python",
   "pygments_lexer": "ipython3",
   "version": "3.7.4"
  }
 },
 "nbformat": 4,
 "nbformat_minor": 2
}
